{
  "nbformat": 4,
  "nbformat_minor": 0,
  "metadata": {
    "colab": {
      "provenance": []
    },
    "kernelspec": {
      "name": "python3",
      "display_name": "Python 3"
    },
    "language_info": {
      "name": "python"
    }
  },
  "cells": [
    {
      "cell_type": "code",
      "execution_count": null,
      "metadata": {
        "id": "5s08lBw8CsdL"
      },
      "outputs": [],
      "source": [
        "import torch\n",
        "import torchvision\n",
        "from torchvision import datasets\n",
        "from torchvision.transforms import ToTensor #ToTensor is 20 dimension matrix"
      ]
    },
    {
      "cell_type": "markdown",
      "source": [
        "# Preparing the dataset"
      ],
      "metadata": {
        "id": "JQzFyFQM_fQ7"
      }
    },
    {
      "cell_type": "code",
      "source": [
        "train_data = datasets.MNIST(\n",
        "    root = \"data\",\n",
        "    train = True,\n",
        "    download = True,\n",
        "    transform = ToTensor()\n",
        ")\n",
        "test_data = datasets.MNIST(\n",
        "    root = \"data\",\n",
        "    train = False,\n",
        "    download = True,\n",
        "    transform = ToTensor()\n",
        ")"
      ],
      "metadata": {
        "colab": {
          "base_uri": "https://localhost:8080/"
        },
        "id": "Q1KeVjwtDAf_",
        "outputId": "7c524caa-6383-4460-d124-97374c04fe55"
      },
      "execution_count": null,
      "outputs": [
        {
          "output_type": "stream",
          "name": "stdout",
          "text": [
            "Downloading http://yann.lecun.com/exdb/mnist/train-images-idx3-ubyte.gz\n",
            "Failed to download (trying next):\n",
            "<urlopen error [SSL: CERTIFICATE_VERIFY_FAILED] certificate verify failed: certificate has expired (_ssl.c:1007)>\n",
            "\n",
            "Downloading https://ossci-datasets.s3.amazonaws.com/mnist/train-images-idx3-ubyte.gz\n",
            "Downloading https://ossci-datasets.s3.amazonaws.com/mnist/train-images-idx3-ubyte.gz to data/MNIST/raw/train-images-idx3-ubyte.gz\n"
          ]
        },
        {
          "output_type": "stream",
          "name": "stderr",
          "text": [
            "100%|██████████| 9912422/9912422 [00:01<00:00, 5046500.60it/s]\n"
          ]
        },
        {
          "output_type": "stream",
          "name": "stdout",
          "text": [
            "Extracting data/MNIST/raw/train-images-idx3-ubyte.gz to data/MNIST/raw\n",
            "\n",
            "Downloading http://yann.lecun.com/exdb/mnist/train-labels-idx1-ubyte.gz\n",
            "Failed to download (trying next):\n",
            "<urlopen error [SSL: CERTIFICATE_VERIFY_FAILED] certificate verify failed: certificate has expired (_ssl.c:1007)>\n",
            "\n",
            "Downloading https://ossci-datasets.s3.amazonaws.com/mnist/train-labels-idx1-ubyte.gz\n",
            "Downloading https://ossci-datasets.s3.amazonaws.com/mnist/train-labels-idx1-ubyte.gz to data/MNIST/raw/train-labels-idx1-ubyte.gz\n"
          ]
        },
        {
          "output_type": "stream",
          "name": "stderr",
          "text": [
            "100%|██████████| 28881/28881 [00:00<00:00, 161764.89it/s]\n"
          ]
        },
        {
          "output_type": "stream",
          "name": "stdout",
          "text": [
            "Extracting data/MNIST/raw/train-labels-idx1-ubyte.gz to data/MNIST/raw\n",
            "\n",
            "Downloading http://yann.lecun.com/exdb/mnist/t10k-images-idx3-ubyte.gz\n",
            "Failed to download (trying next):\n",
            "<urlopen error [SSL: CERTIFICATE_VERIFY_FAILED] certificate verify failed: certificate has expired (_ssl.c:1007)>\n",
            "\n",
            "Downloading https://ossci-datasets.s3.amazonaws.com/mnist/t10k-images-idx3-ubyte.gz\n",
            "Downloading https://ossci-datasets.s3.amazonaws.com/mnist/t10k-images-idx3-ubyte.gz to data/MNIST/raw/t10k-images-idx3-ubyte.gz\n"
          ]
        },
        {
          "output_type": "stream",
          "name": "stderr",
          "text": [
            "100%|██████████| 1648877/1648877 [00:01<00:00, 1529957.85it/s]\n"
          ]
        },
        {
          "output_type": "stream",
          "name": "stdout",
          "text": [
            "Extracting data/MNIST/raw/t10k-images-idx3-ubyte.gz to data/MNIST/raw\n",
            "\n",
            "Downloading http://yann.lecun.com/exdb/mnist/t10k-labels-idx1-ubyte.gz\n",
            "Failed to download (trying next):\n",
            "<urlopen error [SSL: CERTIFICATE_VERIFY_FAILED] certificate verify failed: certificate has expired (_ssl.c:1007)>\n",
            "\n",
            "Downloading https://ossci-datasets.s3.amazonaws.com/mnist/t10k-labels-idx1-ubyte.gz\n",
            "Downloading https://ossci-datasets.s3.amazonaws.com/mnist/t10k-labels-idx1-ubyte.gz to data/MNIST/raw/t10k-labels-idx1-ubyte.gz\n"
          ]
        },
        {
          "output_type": "stream",
          "name": "stderr",
          "text": [
            "100%|██████████| 4542/4542 [00:00<00:00, 6665685.36it/s]"
          ]
        },
        {
          "output_type": "stream",
          "name": "stdout",
          "text": [
            "Extracting data/MNIST/raw/t10k-labels-idx1-ubyte.gz to data/MNIST/raw\n",
            "\n"
          ]
        },
        {
          "output_type": "stream",
          "name": "stderr",
          "text": [
            "\n"
          ]
        }
      ]
    },
    {
      "cell_type": "code",
      "source": [
        "train_data"
      ],
      "metadata": {
        "colab": {
          "base_uri": "https://localhost:8080/"
        },
        "id": "-25dABnm_YL0",
        "outputId": "01419f2f-6bd8-44cf-a5b7-56100a55387f"
      },
      "execution_count": null,
      "outputs": [
        {
          "output_type": "execute_result",
          "data": {
            "text/plain": [
              "Dataset MNIST\n",
              "    Number of datapoints: 60000\n",
              "    Root location: data\n",
              "    Split: Train\n",
              "    StandardTransform\n",
              "Transform: ToTensor()"
            ]
          },
          "metadata": {},
          "execution_count": 3
        }
      ]
    },
    {
      "cell_type": "code",
      "source": [
        "test_data"
      ],
      "metadata": {
        "colab": {
          "base_uri": "https://localhost:8080/"
        },
        "id": "qTdVH8zl_dJW",
        "outputId": "e1a7fff0-180a-4047-e9f9-6f0d490bd52a"
      },
      "execution_count": null,
      "outputs": [
        {
          "output_type": "execute_result",
          "data": {
            "text/plain": [
              "Dataset MNIST\n",
              "    Number of datapoints: 10000\n",
              "    Root location: data\n",
              "    Split: Test\n",
              "    StandardTransform\n",
              "Transform: ToTensor()"
            ]
          },
          "metadata": {},
          "execution_count": 4
        }
      ]
    },
    {
      "cell_type": "code",
      "source": [
        "train_data.data.shape"
      ],
      "metadata": {
        "colab": {
          "base_uri": "https://localhost:8080/"
        },
        "id": "KO8FZH7q_eai",
        "outputId": "6de7b56b-a413-4fa2-b29a-bfdf4ce3f8c6"
      },
      "execution_count": null,
      "outputs": [
        {
          "output_type": "execute_result",
          "data": {
            "text/plain": [
              "torch.Size([60000, 28, 28])"
            ]
          },
          "metadata": {},
          "execution_count": 5
        }
      ]
    },
    {
      "cell_type": "code",
      "source": [
        "test_data.data.shape"
      ],
      "metadata": {
        "colab": {
          "base_uri": "https://localhost:8080/"
        },
        "id": "ybW-u1DC_pK-",
        "outputId": "fb5e0de0-44b7-4343-c1bc-502c366e51ae"
      },
      "execution_count": null,
      "outputs": [
        {
          "output_type": "execute_result",
          "data": {
            "text/plain": [
              "torch.Size([10000, 28, 28])"
            ]
          },
          "metadata": {},
          "execution_count": 6
        }
      ]
    },
    {
      "cell_type": "code",
      "source": [
        "train_data.targets.size()"
      ],
      "metadata": {
        "colab": {
          "base_uri": "https://localhost:8080/"
        },
        "id": "eY_-W0bm_xKi",
        "outputId": "b3cb8ad1-85d6-4b63-dda1-f6ead5b676cf"
      },
      "execution_count": null,
      "outputs": [
        {
          "output_type": "execute_result",
          "data": {
            "text/plain": [
              "torch.Size([60000])"
            ]
          },
          "metadata": {},
          "execution_count": 7
        }
      ]
    },
    {
      "cell_type": "code",
      "source": [
        "train_data.targets"
      ],
      "metadata": {
        "colab": {
          "base_uri": "https://localhost:8080/"
        },
        "id": "2BUF3TmL_0QP",
        "outputId": "6d2210f4-8c35-47aa-feb2-7d27685930e6"
      },
      "execution_count": null,
      "outputs": [
        {
          "output_type": "execute_result",
          "data": {
            "text/plain": [
              "tensor([5, 0, 4,  ..., 5, 6, 8])"
            ]
          },
          "metadata": {},
          "execution_count": 8
        }
      ]
    },
    {
      "cell_type": "markdown",
      "source": [
        "# Process the data into batches"
      ],
      "metadata": {
        "id": "hjueZI9V_-wT"
      }
    },
    {
      "cell_type": "code",
      "source": [
        "from torch.utils.data import DataLoader\n",
        "loaders = {\n",
        "    'train': DataLoader(train_data,\n",
        "                        batch_size = 100,\n",
        "                        shuffle=True,\n",
        "                        num_workers=1),\n",
        "    'test': DataLoader(test_data,\n",
        "                        batch_size = 100,\n",
        "                        shuffle=True,\n",
        "                        num_workers=1)\n",
        "}\n"
      ],
      "metadata": {
        "id": "HlkesuVU_4Na"
      },
      "execution_count": null,
      "outputs": []
    },
    {
      "cell_type": "code",
      "source": [
        "loaders"
      ],
      "metadata": {
        "colab": {
          "base_uri": "https://localhost:8080/"
        },
        "id": "_D2uLX4HATPr",
        "outputId": "7d7f228b-2c41-47dc-977b-fbab32862ae3"
      },
      "execution_count": null,
      "outputs": [
        {
          "output_type": "execute_result",
          "data": {
            "text/plain": [
              "{'train': <torch.utils.data.dataloader.DataLoader at 0x78a2ec1fbe50>,\n",
              " 'test': <torch.utils.data.dataloader.DataLoader at 0x78a2ec1fb430>}"
            ]
          },
          "metadata": {},
          "execution_count": 14
        }
      ]
    },
    {
      "cell_type": "markdown",
      "source": [
        "# Structure of CNN"
      ],
      "metadata": {
        "id": "JG6KRx23A91V"
      }
    },
    {
      "cell_type": "code",
      "source": [
        "import torch.nn as nn\n",
        "import torch.nn.functional as F\n",
        "import torch.optim as optim\n",
        "\n",
        "class CNN(nn.Module):\n",
        "    def __init__(self):\n",
        "        super(CNN, self).__init__()\n",
        "\n",
        "        # Convolutional 2d Layer\n",
        "        self.conv1 = nn.Conv2d(1, 10, kernel_size=5) #(Channel in, Channel out)\n",
        "        self.conv2 = nn.Conv2d(10, 20, kernel_size=5)\n",
        "        self.conv2_drop = nn.Dropout2d() #Regulirazation layer -> deactivates certain nodes at the network so that we don't always use them during training.\n",
        "\n",
        "        # Fully Connected Layer\n",
        "        self.fc1 = nn.Linear(320, 50)\n",
        "        self.fc2 = nn.Linear(50, 10) #last layer should be 10 as it goes from 0 to 9.\n",
        "\n",
        "    #Calling the Activation function\n",
        "    def forward(self, x):\n",
        "        x = F.relu(F.max_pool2d(self.conv1(x), 2)) #Calling reLu and max_pooling func\n",
        "        x = F.relu(F.max_pool2d(self.conv2_drop(self.conv2(x)), 2)) #Call the dropout function\n",
        "        x = x.view(-1,320) #20*4*4 neurons\n",
        "        x = F.relu(self.fc1(x))\n",
        "        x = F.dropout(x, training=self.training) # calling dropout func only during training\n",
        "        x = self.fc2(x)\n",
        "        return F.log_softmax(x, dim=1) #dim=1 #Probability for each individual digit.\n"
      ],
      "metadata": {
        "id": "e-B0Lw86AYQh"
      },
      "execution_count": null,
      "outputs": []
    },
    {
      "cell_type": "code",
      "source": [
        "device = torch.device(\"cuda\" if torch.cuda.is_available() else \"cpu\") #to make it work faster.\n",
        "\n",
        "model = CNN().to(device)\n",
        "\n",
        "optimizer = optim.Adam(model.parameters(), lr=0.001)\n",
        "\n",
        "loss_fn = nn.CrossEntropyLoss()\n",
        "\n",
        "def train(epoch):\n",
        "  model.train()\n",
        "  for batch_indx,(data,target) in enumerate (loaders['train']):\n",
        "    data, target = data.to(device), target.to(device)\n",
        "    optimizer.zero_grad() #Set the gradient to zero  before we do th eback propogation\n",
        "    output = model(data)\n",
        "    loss = loss_fn(output, target)\n",
        "    loss.backward() #Calculate the gradient\n",
        "    optimizer.step() #Update the weights\n",
        "    if batch_indx % 20 == 0:\n",
        "      print(f'Train Epoch: {epoch} [{batch_indx * len(data)}/{len(loaders[\"train\"].dataset)} ({100. * batch_indx / len(loaders[\"train\"]):.0f}%)]\\t{loss.item():.6f}')\n",
        "def test():\n",
        "  model.eval()\n",
        "  test_loss =0\n",
        "  correct = 0\n",
        "  with torch.no_grad():\n",
        "    for data, target in loaders['test']:\n",
        "      data, target = data.to(device), target.to(device)\n",
        "      output = model(data)\n",
        "      test_loss += loss_fn(output, target).item()\n",
        "      pred = output.data.max(1, keepdim=True)[1] # maximum value is the prediction\n",
        "      correct += pred.eq(target.data.view_as(pred)).sum()\n",
        "  test_loss /= len(loaders['test'].dataset)\n",
        "  print(f'\\n Test set: Average loss: {test_loss:.4f}, Accuracy: {correct}/{len(loaders[\"test\"].dataset)} ({100. * correct / len(loaders[\"test\"].dataset):.0f}%\\n')"
      ],
      "metadata": {
        "id": "ymoGk6VKC9ff"
      },
      "execution_count": null,
      "outputs": []
    },
    {
      "cell_type": "code",
      "source": [
        "for epoch in range(1,11):\n",
        "  train(epoch)\n",
        "  test()"
      ],
      "metadata": {
        "colab": {
          "base_uri": "https://localhost:8080/"
        },
        "id": "_oIkw5LzH3Uf",
        "outputId": "60838038-8830-46bd-945c-159c002106c4"
      },
      "execution_count": null,
      "outputs": [
        {
          "output_type": "stream",
          "name": "stdout",
          "text": [
            "Train Epoch: 1 [0/60000 (0%)]\t2.317786\n",
            "Train Epoch: 1 [2000/60000 (3%)]\t2.170158\n",
            "Train Epoch: 1 [4000/60000 (7%)]\t1.662817\n",
            "Train Epoch: 1 [6000/60000 (10%)]\t1.072359\n",
            "Train Epoch: 1 [8000/60000 (13%)]\t1.191406\n",
            "Train Epoch: 1 [10000/60000 (17%)]\t0.698225\n",
            "Train Epoch: 1 [12000/60000 (20%)]\t0.706581\n",
            "Train Epoch: 1 [14000/60000 (23%)]\t0.420958\n",
            "Train Epoch: 1 [16000/60000 (27%)]\t0.683893\n",
            "Train Epoch: 1 [18000/60000 (30%)]\t0.605017\n",
            "Train Epoch: 1 [20000/60000 (33%)]\t0.435675\n",
            "Train Epoch: 1 [22000/60000 (37%)]\t0.376823\n",
            "Train Epoch: 1 [24000/60000 (40%)]\t0.369738\n",
            "Train Epoch: 1 [26000/60000 (43%)]\t0.302947\n",
            "Train Epoch: 1 [28000/60000 (47%)]\t0.446727\n",
            "Train Epoch: 1 [30000/60000 (50%)]\t0.466554\n",
            "Train Epoch: 1 [32000/60000 (53%)]\t0.414263\n",
            "Train Epoch: 1 [34000/60000 (57%)]\t0.447245\n",
            "Train Epoch: 1 [36000/60000 (60%)]\t0.400908\n",
            "Train Epoch: 1 [38000/60000 (63%)]\t0.312487\n",
            "Train Epoch: 1 [40000/60000 (67%)]\t0.267919\n",
            "Train Epoch: 1 [42000/60000 (70%)]\t0.348097\n",
            "Train Epoch: 1 [44000/60000 (73%)]\t0.464440\n",
            "Train Epoch: 1 [46000/60000 (77%)]\t0.391696\n",
            "Train Epoch: 1 [48000/60000 (80%)]\t0.464099\n",
            "Train Epoch: 1 [50000/60000 (83%)]\t0.348492\n",
            "Train Epoch: 1 [52000/60000 (87%)]\t0.356541\n",
            "Train Epoch: 1 [54000/60000 (90%)]\t0.342473\n",
            "Train Epoch: 1 [56000/60000 (93%)]\t0.388048\n",
            "Train Epoch: 1 [58000/60000 (97%)]\t0.323558\n",
            "\n",
            " Test set: Average loss: 0.0014, Accuracy: 9574/10000 (96%\n",
            "\n",
            "Train Epoch: 2 [0/60000 (0%)]\t0.243270\n",
            "Train Epoch: 2 [2000/60000 (3%)]\t0.412051\n",
            "Train Epoch: 2 [4000/60000 (7%)]\t0.390662\n",
            "Train Epoch: 2 [6000/60000 (10%)]\t0.377540\n",
            "Train Epoch: 2 [8000/60000 (13%)]\t0.425706\n",
            "Train Epoch: 2 [10000/60000 (17%)]\t0.397831\n",
            "Train Epoch: 2 [12000/60000 (20%)]\t0.312838\n",
            "Train Epoch: 2 [14000/60000 (23%)]\t0.465362\n",
            "Train Epoch: 2 [16000/60000 (27%)]\t0.198961\n",
            "Train Epoch: 2 [18000/60000 (30%)]\t0.232415\n",
            "Train Epoch: 2 [20000/60000 (33%)]\t0.457887\n",
            "Train Epoch: 2 [22000/60000 (37%)]\t0.217372\n",
            "Train Epoch: 2 [24000/60000 (40%)]\t0.368344\n",
            "Train Epoch: 2 [26000/60000 (43%)]\t0.252538\n",
            "Train Epoch: 2 [28000/60000 (47%)]\t0.250260\n",
            "Train Epoch: 2 [30000/60000 (50%)]\t0.192824\n",
            "Train Epoch: 2 [32000/60000 (53%)]\t0.280384\n",
            "Train Epoch: 2 [34000/60000 (57%)]\t0.393856\n",
            "Train Epoch: 2 [36000/60000 (60%)]\t0.193719\n",
            "Train Epoch: 2 [38000/60000 (63%)]\t0.287285\n",
            "Train Epoch: 2 [40000/60000 (67%)]\t0.206470\n",
            "Train Epoch: 2 [42000/60000 (70%)]\t0.302668\n",
            "Train Epoch: 2 [44000/60000 (73%)]\t0.305954\n",
            "Train Epoch: 2 [46000/60000 (77%)]\t0.369226\n",
            "Train Epoch: 2 [48000/60000 (80%)]\t0.246557\n",
            "Train Epoch: 2 [50000/60000 (83%)]\t0.257195\n",
            "Train Epoch: 2 [52000/60000 (87%)]\t0.198692\n",
            "Train Epoch: 2 [54000/60000 (90%)]\t0.332470\n",
            "Train Epoch: 2 [56000/60000 (93%)]\t0.180933\n",
            "Train Epoch: 2 [58000/60000 (97%)]\t0.300975\n",
            "\n",
            " Test set: Average loss: 0.0009, Accuracy: 9730/10000 (97%\n",
            "\n",
            "Train Epoch: 3 [0/60000 (0%)]\t0.323237\n",
            "Train Epoch: 3 [2000/60000 (3%)]\t0.261366\n",
            "Train Epoch: 3 [4000/60000 (7%)]\t0.326878\n",
            "Train Epoch: 3 [6000/60000 (10%)]\t0.206837\n",
            "Train Epoch: 3 [8000/60000 (13%)]\t0.157628\n",
            "Train Epoch: 3 [10000/60000 (17%)]\t0.300362\n",
            "Train Epoch: 3 [12000/60000 (20%)]\t0.211486\n",
            "Train Epoch: 3 [14000/60000 (23%)]\t0.330115\n",
            "Train Epoch: 3 [16000/60000 (27%)]\t0.302980\n",
            "Train Epoch: 3 [18000/60000 (30%)]\t0.243617\n",
            "Train Epoch: 3 [20000/60000 (33%)]\t0.405217\n",
            "Train Epoch: 3 [22000/60000 (37%)]\t0.238918\n",
            "Train Epoch: 3 [24000/60000 (40%)]\t0.170032\n",
            "Train Epoch: 3 [26000/60000 (43%)]\t0.167625\n",
            "Train Epoch: 3 [28000/60000 (47%)]\t0.238428\n",
            "Train Epoch: 3 [30000/60000 (50%)]\t0.234889\n",
            "Train Epoch: 3 [32000/60000 (53%)]\t0.210940\n",
            "Train Epoch: 3 [34000/60000 (57%)]\t0.221587\n",
            "Train Epoch: 3 [36000/60000 (60%)]\t0.151978\n",
            "Train Epoch: 3 [38000/60000 (63%)]\t0.223586\n",
            "Train Epoch: 3 [40000/60000 (67%)]\t0.158785\n",
            "Train Epoch: 3 [42000/60000 (70%)]\t0.167969\n",
            "Train Epoch: 3 [44000/60000 (73%)]\t0.168988\n",
            "Train Epoch: 3 [46000/60000 (77%)]\t0.238441\n",
            "Train Epoch: 3 [48000/60000 (80%)]\t0.297684\n",
            "Train Epoch: 3 [50000/60000 (83%)]\t0.247268\n",
            "Train Epoch: 3 [52000/60000 (87%)]\t0.302403\n",
            "Train Epoch: 3 [54000/60000 (90%)]\t0.190714\n",
            "Train Epoch: 3 [56000/60000 (93%)]\t0.334404\n",
            "Train Epoch: 3 [58000/60000 (97%)]\t0.263947\n",
            "\n",
            " Test set: Average loss: 0.0008, Accuracy: 9767/10000 (98%\n",
            "\n",
            "Train Epoch: 4 [0/60000 (0%)]\t0.115661\n",
            "Train Epoch: 4 [2000/60000 (3%)]\t0.183540\n",
            "Train Epoch: 4 [4000/60000 (7%)]\t0.134331\n",
            "Train Epoch: 4 [6000/60000 (10%)]\t0.259203\n",
            "Train Epoch: 4 [8000/60000 (13%)]\t0.216629\n",
            "Train Epoch: 4 [10000/60000 (17%)]\t0.351757\n",
            "Train Epoch: 4 [12000/60000 (20%)]\t0.172140\n",
            "Train Epoch: 4 [14000/60000 (23%)]\t0.112335\n",
            "Train Epoch: 4 [16000/60000 (27%)]\t0.198751\n",
            "Train Epoch: 4 [18000/60000 (30%)]\t0.298067\n",
            "Train Epoch: 4 [20000/60000 (33%)]\t0.153807\n",
            "Train Epoch: 4 [22000/60000 (37%)]\t0.218180\n",
            "Train Epoch: 4 [24000/60000 (40%)]\t0.387808\n",
            "Train Epoch: 4 [26000/60000 (43%)]\t0.217504\n",
            "Train Epoch: 4 [28000/60000 (47%)]\t0.189054\n",
            "Train Epoch: 4 [30000/60000 (50%)]\t0.247936\n",
            "Train Epoch: 4 [32000/60000 (53%)]\t0.295471\n",
            "Train Epoch: 4 [34000/60000 (57%)]\t0.115739\n",
            "Train Epoch: 4 [36000/60000 (60%)]\t0.188455\n",
            "Train Epoch: 4 [38000/60000 (63%)]\t0.263690\n",
            "Train Epoch: 4 [40000/60000 (67%)]\t0.198465\n",
            "Train Epoch: 4 [42000/60000 (70%)]\t0.166838\n",
            "Train Epoch: 4 [44000/60000 (73%)]\t0.194745\n",
            "Train Epoch: 4 [46000/60000 (77%)]\t0.261483\n",
            "Train Epoch: 4 [48000/60000 (80%)]\t0.176126\n",
            "Train Epoch: 4 [50000/60000 (83%)]\t0.325381\n",
            "Train Epoch: 4 [52000/60000 (87%)]\t0.222112\n",
            "Train Epoch: 4 [54000/60000 (90%)]\t0.204300\n",
            "Train Epoch: 4 [56000/60000 (93%)]\t0.156534\n",
            "Train Epoch: 4 [58000/60000 (97%)]\t0.259425\n",
            "\n",
            " Test set: Average loss: 0.0006, Accuracy: 9800/10000 (98%\n",
            "\n",
            "Train Epoch: 5 [0/60000 (0%)]\t0.146242\n",
            "Train Epoch: 5 [2000/60000 (3%)]\t0.167876\n",
            "Train Epoch: 5 [4000/60000 (7%)]\t0.286441\n",
            "Train Epoch: 5 [6000/60000 (10%)]\t0.139202\n",
            "Train Epoch: 5 [8000/60000 (13%)]\t0.139091\n",
            "Train Epoch: 5 [10000/60000 (17%)]\t0.163133\n",
            "Train Epoch: 5 [12000/60000 (20%)]\t0.212984\n",
            "Train Epoch: 5 [14000/60000 (23%)]\t0.209360\n",
            "Train Epoch: 5 [16000/60000 (27%)]\t0.166797\n",
            "Train Epoch: 5 [18000/60000 (30%)]\t0.222299\n",
            "Train Epoch: 5 [20000/60000 (33%)]\t0.108546\n",
            "Train Epoch: 5 [22000/60000 (37%)]\t0.289481\n",
            "Train Epoch: 5 [24000/60000 (40%)]\t0.213736\n",
            "Train Epoch: 5 [26000/60000 (43%)]\t0.129866\n",
            "Train Epoch: 5 [28000/60000 (47%)]\t0.120570\n",
            "Train Epoch: 5 [30000/60000 (50%)]\t0.220334\n",
            "Train Epoch: 5 [32000/60000 (53%)]\t0.161159\n",
            "Train Epoch: 5 [34000/60000 (57%)]\t0.211124\n",
            "Train Epoch: 5 [36000/60000 (60%)]\t0.214004\n",
            "Train Epoch: 5 [38000/60000 (63%)]\t0.219153\n",
            "Train Epoch: 5 [40000/60000 (67%)]\t0.133902\n",
            "Train Epoch: 5 [42000/60000 (70%)]\t0.136448\n",
            "Train Epoch: 5 [44000/60000 (73%)]\t0.135393\n",
            "Train Epoch: 5 [46000/60000 (77%)]\t0.151222\n",
            "Train Epoch: 5 [48000/60000 (80%)]\t0.109062\n",
            "Train Epoch: 5 [50000/60000 (83%)]\t0.189457\n",
            "Train Epoch: 5 [52000/60000 (87%)]\t0.280881\n",
            "Train Epoch: 5 [54000/60000 (90%)]\t0.221198\n",
            "Train Epoch: 5 [56000/60000 (93%)]\t0.338149\n",
            "Train Epoch: 5 [58000/60000 (97%)]\t0.093168\n",
            "\n",
            " Test set: Average loss: 0.0006, Accuracy: 9821/10000 (98%\n",
            "\n",
            "Train Epoch: 6 [0/60000 (0%)]\t0.144453\n",
            "Train Epoch: 6 [2000/60000 (3%)]\t0.192854\n",
            "Train Epoch: 6 [4000/60000 (7%)]\t0.071695\n",
            "Train Epoch: 6 [6000/60000 (10%)]\t0.094562\n",
            "Train Epoch: 6 [8000/60000 (13%)]\t0.290361\n",
            "Train Epoch: 6 [10000/60000 (17%)]\t0.253060\n",
            "Train Epoch: 6 [12000/60000 (20%)]\t0.154236\n",
            "Train Epoch: 6 [14000/60000 (23%)]\t0.218059\n",
            "Train Epoch: 6 [16000/60000 (27%)]\t0.119942\n",
            "Train Epoch: 6 [18000/60000 (30%)]\t0.256723\n",
            "Train Epoch: 6 [20000/60000 (33%)]\t0.083645\n",
            "Train Epoch: 6 [22000/60000 (37%)]\t0.109690\n",
            "Train Epoch: 6 [24000/60000 (40%)]\t0.212058\n",
            "Train Epoch: 6 [26000/60000 (43%)]\t0.184693\n",
            "Train Epoch: 6 [28000/60000 (47%)]\t0.081824\n",
            "Train Epoch: 6 [30000/60000 (50%)]\t0.081432\n",
            "Train Epoch: 6 [32000/60000 (53%)]\t0.105409\n",
            "Train Epoch: 6 [34000/60000 (57%)]\t0.160425\n",
            "Train Epoch: 6 [36000/60000 (60%)]\t0.172795\n",
            "Train Epoch: 6 [38000/60000 (63%)]\t0.074039\n",
            "Train Epoch: 6 [40000/60000 (67%)]\t0.203058\n",
            "Train Epoch: 6 [42000/60000 (70%)]\t0.097915\n",
            "Train Epoch: 6 [44000/60000 (73%)]\t0.068043\n",
            "Train Epoch: 6 [46000/60000 (77%)]\t0.270353\n",
            "Train Epoch: 6 [48000/60000 (80%)]\t0.204521\n",
            "Train Epoch: 6 [50000/60000 (83%)]\t0.155090\n",
            "Train Epoch: 6 [52000/60000 (87%)]\t0.278464\n",
            "Train Epoch: 6 [54000/60000 (90%)]\t0.132507\n",
            "Train Epoch: 6 [56000/60000 (93%)]\t0.144354\n",
            "Train Epoch: 6 [58000/60000 (97%)]\t0.397947\n",
            "\n",
            " Test set: Average loss: 0.0005, Accuracy: 9838/10000 (98%\n",
            "\n",
            "Train Epoch: 7 [0/60000 (0%)]\t0.222602\n",
            "Train Epoch: 7 [2000/60000 (3%)]\t0.134181\n",
            "Train Epoch: 7 [4000/60000 (7%)]\t0.167575\n",
            "Train Epoch: 7 [6000/60000 (10%)]\t0.088380\n",
            "Train Epoch: 7 [8000/60000 (13%)]\t0.154635\n",
            "Train Epoch: 7 [10000/60000 (17%)]\t0.187940\n",
            "Train Epoch: 7 [12000/60000 (20%)]\t0.168202\n",
            "Train Epoch: 7 [14000/60000 (23%)]\t0.217993\n",
            "Train Epoch: 7 [16000/60000 (27%)]\t0.073933\n",
            "Train Epoch: 7 [18000/60000 (30%)]\t0.200249\n",
            "Train Epoch: 7 [20000/60000 (33%)]\t0.211732\n",
            "Train Epoch: 7 [22000/60000 (37%)]\t0.152168\n",
            "Train Epoch: 7 [24000/60000 (40%)]\t0.051874\n",
            "Train Epoch: 7 [26000/60000 (43%)]\t0.166834\n",
            "Train Epoch: 7 [28000/60000 (47%)]\t0.184863\n",
            "Train Epoch: 7 [30000/60000 (50%)]\t0.148535\n",
            "Train Epoch: 7 [32000/60000 (53%)]\t0.118426\n",
            "Train Epoch: 7 [34000/60000 (57%)]\t0.084441\n",
            "Train Epoch: 7 [36000/60000 (60%)]\t0.169201\n",
            "Train Epoch: 7 [38000/60000 (63%)]\t0.201702\n",
            "Train Epoch: 7 [40000/60000 (67%)]\t0.120461\n",
            "Train Epoch: 7 [42000/60000 (70%)]\t0.159159\n",
            "Train Epoch: 7 [44000/60000 (73%)]\t0.109668\n",
            "Train Epoch: 7 [46000/60000 (77%)]\t0.176884\n",
            "Train Epoch: 7 [48000/60000 (80%)]\t0.280278\n",
            "Train Epoch: 7 [50000/60000 (83%)]\t0.157400\n",
            "Train Epoch: 7 [52000/60000 (87%)]\t0.335453\n",
            "Train Epoch: 7 [54000/60000 (90%)]\t0.128798\n",
            "Train Epoch: 7 [56000/60000 (93%)]\t0.108068\n",
            "Train Epoch: 7 [58000/60000 (97%)]\t0.192909\n",
            "\n",
            " Test set: Average loss: 0.0005, Accuracy: 9849/10000 (98%\n",
            "\n",
            "Train Epoch: 8 [0/60000 (0%)]\t0.138434\n",
            "Train Epoch: 8 [2000/60000 (3%)]\t0.217863\n",
            "Train Epoch: 8 [4000/60000 (7%)]\t0.105266\n",
            "Train Epoch: 8 [6000/60000 (10%)]\t0.147191\n",
            "Train Epoch: 8 [8000/60000 (13%)]\t0.083166\n",
            "Train Epoch: 8 [10000/60000 (17%)]\t0.162746\n",
            "Train Epoch: 8 [12000/60000 (20%)]\t0.254111\n",
            "Train Epoch: 8 [14000/60000 (23%)]\t0.048550\n",
            "Train Epoch: 8 [16000/60000 (27%)]\t0.127478\n",
            "Train Epoch: 8 [18000/60000 (30%)]\t0.219856\n",
            "Train Epoch: 8 [20000/60000 (33%)]\t0.083888\n",
            "Train Epoch: 8 [22000/60000 (37%)]\t0.174561\n",
            "Train Epoch: 8 [24000/60000 (40%)]\t0.078504\n",
            "Train Epoch: 8 [26000/60000 (43%)]\t0.159040\n",
            "Train Epoch: 8 [28000/60000 (47%)]\t0.266683\n",
            "Train Epoch: 8 [30000/60000 (50%)]\t0.168548\n",
            "Train Epoch: 8 [32000/60000 (53%)]\t0.200227\n",
            "Train Epoch: 8 [34000/60000 (57%)]\t0.098827\n",
            "Train Epoch: 8 [36000/60000 (60%)]\t0.110516\n",
            "Train Epoch: 8 [38000/60000 (63%)]\t0.316857\n",
            "Train Epoch: 8 [40000/60000 (67%)]\t0.108240\n",
            "Train Epoch: 8 [42000/60000 (70%)]\t0.072080\n",
            "Train Epoch: 8 [44000/60000 (73%)]\t0.136134\n",
            "Train Epoch: 8 [46000/60000 (77%)]\t0.151223\n",
            "Train Epoch: 8 [48000/60000 (80%)]\t0.179963\n",
            "Train Epoch: 8 [50000/60000 (83%)]\t0.229373\n",
            "Train Epoch: 8 [52000/60000 (87%)]\t0.236302\n",
            "Train Epoch: 8 [54000/60000 (90%)]\t0.131096\n",
            "Train Epoch: 8 [56000/60000 (93%)]\t0.174466\n",
            "Train Epoch: 8 [58000/60000 (97%)]\t0.136166\n",
            "\n",
            " Test set: Average loss: 0.0005, Accuracy: 9849/10000 (98%\n",
            "\n",
            "Train Epoch: 9 [0/60000 (0%)]\t0.173301\n",
            "Train Epoch: 9 [2000/60000 (3%)]\t0.079860\n",
            "Train Epoch: 9 [4000/60000 (7%)]\t0.085939\n",
            "Train Epoch: 9 [6000/60000 (10%)]\t0.074756\n",
            "Train Epoch: 9 [8000/60000 (13%)]\t0.194380\n",
            "Train Epoch: 9 [10000/60000 (17%)]\t0.118490\n",
            "Train Epoch: 9 [12000/60000 (20%)]\t0.057317\n",
            "Train Epoch: 9 [14000/60000 (23%)]\t0.083730\n",
            "Train Epoch: 9 [16000/60000 (27%)]\t0.188608\n",
            "Train Epoch: 9 [18000/60000 (30%)]\t0.313570\n",
            "Train Epoch: 9 [20000/60000 (33%)]\t0.182275\n",
            "Train Epoch: 9 [22000/60000 (37%)]\t0.057680\n",
            "Train Epoch: 9 [24000/60000 (40%)]\t0.120907\n",
            "Train Epoch: 9 [26000/60000 (43%)]\t0.211098\n",
            "Train Epoch: 9 [28000/60000 (47%)]\t0.143710\n",
            "Train Epoch: 9 [30000/60000 (50%)]\t0.044085\n",
            "Train Epoch: 9 [32000/60000 (53%)]\t0.089477\n",
            "Train Epoch: 9 [34000/60000 (57%)]\t0.109870\n",
            "Train Epoch: 9 [36000/60000 (60%)]\t0.109825\n",
            "Train Epoch: 9 [38000/60000 (63%)]\t0.253351\n",
            "Train Epoch: 9 [40000/60000 (67%)]\t0.123094\n",
            "Train Epoch: 9 [42000/60000 (70%)]\t0.053764\n",
            "Train Epoch: 9 [44000/60000 (73%)]\t0.157590\n",
            "Train Epoch: 9 [46000/60000 (77%)]\t0.142044\n",
            "Train Epoch: 9 [48000/60000 (80%)]\t0.083443\n",
            "Train Epoch: 9 [50000/60000 (83%)]\t0.195766\n",
            "Train Epoch: 9 [52000/60000 (87%)]\t0.164544\n",
            "Train Epoch: 9 [54000/60000 (90%)]\t0.190642\n",
            "Train Epoch: 9 [56000/60000 (93%)]\t0.400110\n",
            "Train Epoch: 9 [58000/60000 (97%)]\t0.234942\n",
            "\n",
            " Test set: Average loss: 0.0005, Accuracy: 9865/10000 (99%\n",
            "\n",
            "Train Epoch: 10 [0/60000 (0%)]\t0.141031\n",
            "Train Epoch: 10 [2000/60000 (3%)]\t0.065960\n",
            "Train Epoch: 10 [4000/60000 (7%)]\t0.072882\n",
            "Train Epoch: 10 [6000/60000 (10%)]\t0.249569\n",
            "Train Epoch: 10 [8000/60000 (13%)]\t0.166859\n",
            "Train Epoch: 10 [10000/60000 (17%)]\t0.095600\n",
            "Train Epoch: 10 [12000/60000 (20%)]\t0.305650\n",
            "Train Epoch: 10 [14000/60000 (23%)]\t0.144206\n",
            "Train Epoch: 10 [16000/60000 (27%)]\t0.209589\n",
            "Train Epoch: 10 [18000/60000 (30%)]\t0.040469\n",
            "Train Epoch: 10 [20000/60000 (33%)]\t0.214210\n",
            "Train Epoch: 10 [22000/60000 (37%)]\t0.108474\n",
            "Train Epoch: 10 [24000/60000 (40%)]\t0.134090\n",
            "Train Epoch: 10 [26000/60000 (43%)]\t0.169229\n",
            "Train Epoch: 10 [28000/60000 (47%)]\t0.091950\n",
            "Train Epoch: 10 [30000/60000 (50%)]\t0.167936\n",
            "Train Epoch: 10 [32000/60000 (53%)]\t0.130895\n",
            "Train Epoch: 10 [34000/60000 (57%)]\t0.211388\n",
            "Train Epoch: 10 [36000/60000 (60%)]\t0.050709\n",
            "Train Epoch: 10 [38000/60000 (63%)]\t0.134147\n",
            "Train Epoch: 10 [40000/60000 (67%)]\t0.087565\n",
            "Train Epoch: 10 [42000/60000 (70%)]\t0.232290\n",
            "Train Epoch: 10 [44000/60000 (73%)]\t0.308190\n",
            "Train Epoch: 10 [46000/60000 (77%)]\t0.151287\n",
            "Train Epoch: 10 [48000/60000 (80%)]\t0.088645\n",
            "Train Epoch: 10 [50000/60000 (83%)]\t0.135453\n",
            "Train Epoch: 10 [52000/60000 (87%)]\t0.150707\n",
            "Train Epoch: 10 [54000/60000 (90%)]\t0.272675\n",
            "Train Epoch: 10 [56000/60000 (93%)]\t0.101816\n",
            "Train Epoch: 10 [58000/60000 (97%)]\t0.084660\n",
            "\n",
            " Test set: Average loss: 0.0004, Accuracy: 9868/10000 (99%\n",
            "\n"
          ]
        }
      ]
    },
    {
      "cell_type": "code",
      "source": [
        "device"
      ],
      "metadata": {
        "colab": {
          "base_uri": "https://localhost:8080/"
        },
        "id": "eHyHDDp9H-N_",
        "outputId": "882c259d-4418-43cf-884e-da8082f9d13f"
      },
      "execution_count": null,
      "outputs": [
        {
          "output_type": "execute_result",
          "data": {
            "text/plain": [
              "device(type='cpu')"
            ]
          },
          "metadata": {},
          "execution_count": 18
        }
      ]
    },
    {
      "cell_type": "code",
      "source": [
        "import matplotlib.pyplot as plt\n",
        "model.eval()\n",
        "\n",
        "data , target = test_data[0]\n",
        "\n",
        "data = data.unsqueeze(0).to(device)\n",
        "\n",
        "output = model(data)\n",
        "\n",
        "pred = output.data.argmax(dim = 1, keepdim=True).item()\n",
        "\n",
        "print(f'Prediction: {pred}')\n",
        "\n",
        "image = data.squeeze(0).squeeze(0).cpu().numpy()\n",
        "\n",
        "plt.imshow(image, cmap='gray')\n",
        "plt.show()"
      ],
      "metadata": {
        "colab": {
          "base_uri": "https://localhost:8080/",
          "height": 447
        },
        "id": "D9elIqaqJF1a",
        "outputId": "8886a6a8-df8f-4c4f-b3a4-c9ead0a069b2"
      },
      "execution_count": null,
      "outputs": [
        {
          "output_type": "stream",
          "name": "stdout",
          "text": [
            "Prediction: 7\n"
          ]
        },
        {
          "output_type": "display_data",
          "data": {
            "text/plain": [
              "<Figure size 640x480 with 1 Axes>"
            ],
            "image/png": "[encoded data removed]"
          },
          "metadata": {}
        }
      ]
    },
    {
      "cell_type": "code",
      "source": [
        "model.eval()\n",
        "\n",
        "data , target = test_data[1]\n",
        "\n",
        "data = data.unsqueeze(0).to(device)\n",
        "\n",
        "output = model(data)\n",
        "\n",
        "pred = output.data.argmax(dim = 1, keepdim=True).item()\n",
        "\n",
        "print(f'Prediction: {pred}')\n",
        "\n",
        "image = data.squeeze(0).squeeze(0).cpu().numpy()\n",
        "\n",
        "plt.imshow(image, cmap='gray')\n",
        "plt.show()"
      ],
      "metadata": {
        "colab": {
          "base_uri": "https://localhost:8080/",
          "height": 447
        },
        "id": "alduCFztJTM3",
        "outputId": "79d4a6a6-8f98-4a84-b9d9-9bb625ff2e87"
      },
      "execution_count": null,
      "outputs": [
        {
          "output_type": "stream",
          "name": "stdout",
          "text": [
            "Prediction: 2\n"
          ]
        },
        {
          "output_type": "display_data",
          "data": {
            "text/plain": [
              "<Figure size 640x480 with 1 Axes>"
            ],
            "image/png": "[encoded data removed]"
          },
          "metadata": {}
        }
      ]
    },
    {
      "cell_type": "code",
      "source": [],
      "metadata": {
        "id": "k8PLES8KJ6-1"
      },
      "execution_count": null,
      "outputs": []
    }
  ]
}