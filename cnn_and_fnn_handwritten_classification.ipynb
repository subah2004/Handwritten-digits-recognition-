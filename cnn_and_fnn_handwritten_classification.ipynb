{
  "nbformat": 4,
  "nbformat_minor": 0,
  "metadata": {
    "colab": {
      "provenance": [],
      "authorship_tag": "ABX9TyMGx1JLumEtlxFVrEa47nqf",
      "include_colab_link": true
    },
    "kernelspec": {
      "name": "python3",
      "display_name": "Python 3"
    },
    "language_info": {
      "name": "python"
    }
  },
  "cells": [
    {
      "cell_type": "markdown",
      "metadata": {
        "id": "view-in-github",
        "colab_type": "text"
      },
      "source": [
        "<a href=\"https://colab.research.google.com/github/subah2004/Handwritten-digits-recognition-/blob/Pramod-Katchalla/cnn_and_fnn_handwritten_classification.ipynb\" target=\"_parent\"><img src=\"https://colab.research.google.com/assets/colab-badge.svg\" alt=\"Open In Colab\"/></a>"
      ]
    },
    {
      "cell_type": "code",
      "source": [
        "import numpy as np\n",
        "import torch\n",
        "from torchvision import datasets,transforms\n",
        "import matplotlib.pyplot as plt\n",
        "import seaborn as sns\n",
        "import torch.nn as nn\n",
        "import torch.nn.functional as F\n",
        "from torch.utils.data.sampler import SubsetRandomSampler"
      ],
      "metadata": {
        "id": "aT3i5tPTU8jS"
      },
      "execution_count": null,
      "outputs": []
    },
    {
      "cell_type": "code",
      "source": [
        "transform=transforms.Compose([transforms.ToTensor()])"
      ],
      "metadata": {
        "id": "oGA6YsqSmowM"
      },
      "execution_count": null,
      "outputs": []
    },
    {
      "cell_type": "code",
      "source": [
        "train_data=datasets.MNIST('data',train=True,download=True,transform=transform)\n",
        "test_data=datasets.MNIST('data',train=False,download=True,transform=transform)"
      ],
      "metadata": {
        "colab": {
          "base_uri": "https://localhost:8080/"
        },
        "id": "rwix4yDumrF6",
        "outputId": "f8c18785-63c9-46a0-915d-2de87e13d210"
      },
      "execution_count": null,
      "outputs": [
        {
          "output_type": "stream",
          "name": "stdout",
          "text": [
            "Downloading http://yann.lecun.com/exdb/mnist/train-images-idx3-ubyte.gz\n",
            "Failed to download (trying next):\n",
            "<urlopen error [SSL: CERTIFICATE_VERIFY_FAILED] certificate verify failed: certificate has expired (_ssl.c:1007)>\n",
            "\n",
            "Downloading https://ossci-datasets.s3.amazonaws.com/mnist/train-images-idx3-ubyte.gz\n",
            "Downloading https://ossci-datasets.s3.amazonaws.com/mnist/train-images-idx3-ubyte.gz to data/MNIST/raw/train-images-idx3-ubyte.gz\n"
          ]
        },
        {
          "output_type": "stream",
          "name": "stderr",
          "text": [
            "100%|██████████| 9.91M/9.91M [00:00<00:00, 138MB/s]"
          ]
        },
        {
          "output_type": "stream",
          "name": "stdout",
          "text": [
            "Extracting data/MNIST/raw/train-images-idx3-ubyte.gz to data/MNIST/raw\n"
          ]
        },
        {
          "output_type": "stream",
          "name": "stderr",
          "text": [
            "\n"
          ]
        },
        {
          "output_type": "stream",
          "name": "stdout",
          "text": [
            "\n",
            "Downloading http://yann.lecun.com/exdb/mnist/train-labels-idx1-ubyte.gz\n",
            "Failed to download (trying next):\n",
            "<urlopen error [SSL: CERTIFICATE_VERIFY_FAILED] certificate verify failed: certificate has expired (_ssl.c:1007)>\n",
            "\n",
            "Downloading https://ossci-datasets.s3.amazonaws.com/mnist/train-labels-idx1-ubyte.gz\n",
            "Downloading https://ossci-datasets.s3.amazonaws.com/mnist/train-labels-idx1-ubyte.gz to data/MNIST/raw/train-labels-idx1-ubyte.gz\n"
          ]
        },
        {
          "output_type": "stream",
          "name": "stderr",
          "text": [
            "100%|██████████| 28.9k/28.9k [00:00<00:00, 26.7MB/s]"
          ]
        },
        {
          "output_type": "stream",
          "name": "stdout",
          "text": [
            "Extracting data/MNIST/raw/train-labels-idx1-ubyte.gz to data/MNIST/raw\n",
            "\n",
            "Downloading http://yann.lecun.com/exdb/mnist/t10k-images-idx3-ubyte.gz\n"
          ]
        },
        {
          "output_type": "stream",
          "name": "stderr",
          "text": [
            "\n"
          ]
        },
        {
          "output_type": "stream",
          "name": "stdout",
          "text": [
            "Failed to download (trying next):\n",
            "<urlopen error [SSL: CERTIFICATE_VERIFY_FAILED] certificate verify failed: certificate has expired (_ssl.c:1007)>\n",
            "\n",
            "Downloading https://ossci-datasets.s3.amazonaws.com/mnist/t10k-images-idx3-ubyte.gz\n",
            "Downloading https://ossci-datasets.s3.amazonaws.com/mnist/t10k-images-idx3-ubyte.gz to data/MNIST/raw/t10k-images-idx3-ubyte.gz\n"
          ]
        },
        {
          "output_type": "stream",
          "name": "stderr",
          "text": [
            "100%|██████████| 1.65M/1.65M [00:00<00:00, 36.7MB/s]"
          ]
        },
        {
          "output_type": "stream",
          "name": "stdout",
          "text": [
            "Extracting data/MNIST/raw/t10k-images-idx3-ubyte.gz to data/MNIST/raw\n"
          ]
        },
        {
          "output_type": "stream",
          "name": "stderr",
          "text": [
            "\n"
          ]
        },
        {
          "output_type": "stream",
          "name": "stdout",
          "text": [
            "\n",
            "Downloading http://yann.lecun.com/exdb/mnist/t10k-labels-idx1-ubyte.gz\n",
            "Failed to download (trying next):\n",
            "<urlopen error [SSL: CERTIFICATE_VERIFY_FAILED] certificate verify failed: certificate has expired (_ssl.c:1007)>\n",
            "\n",
            "Downloading https://ossci-datasets.s3.amazonaws.com/mnist/t10k-labels-idx1-ubyte.gz\n",
            "Downloading https://ossci-datasets.s3.amazonaws.com/mnist/t10k-labels-idx1-ubyte.gz to data/MNIST/raw/t10k-labels-idx1-ubyte.gz\n"
          ]
        },
        {
          "output_type": "stream",
          "name": "stderr",
          "text": [
            "100%|██████████| 4.54k/4.54k [00:00<00:00, 7.21MB/s]"
          ]
        },
        {
          "output_type": "stream",
          "name": "stdout",
          "text": [
            "Extracting data/MNIST/raw/t10k-labels-idx1-ubyte.gz to data/MNIST/raw\n",
            "\n"
          ]
        },
        {
          "output_type": "stream",
          "name": "stderr",
          "text": [
            "\n"
          ]
        }
      ]
    },
    {
      "cell_type": "code",
      "source": [
        "valid_size=0.2\n",
        "# IMPORTANT\n",
        "batch_size=20\n",
        "\n",
        "num_workers=0\n",
        "\n",
        "train_length = len(train_data)\n",
        "\n",
        "# obtain training dataset indices that will be used for validation dataset\n",
        "indices = list(range(train_length))\n",
        "\n",
        "np.random.shuffle(indices)\n",
        "split = int(np.floor(valid_size * train_length))\n",
        "train_idx, valid_idx = indices[split:], indices[:split]\n",
        "\n",
        "# define samplers for obtaining training and validation batches\n",
        "train_sampler = SubsetRandomSampler(train_idx)\n",
        "valid_sampler = SubsetRandomSampler(valid_idx)\n",
        "\n",
        "# prepare data loaders for train, test and validation dataset\n",
        "train_loader = torch.utils.data.DataLoader(train_data, batch_size=batch_size,\n",
        "    sampler=train_sampler, num_workers=num_workers)\n",
        "valid_loader = torch.utils.data.DataLoader(train_data, batch_size=batch_size,\n",
        "    sampler=valid_sampler, num_workers=num_workers)\n",
        "test_loader = torch.utils.data.DataLoader(test_data, batch_size=batch_size,\n",
        "    num_workers=num_workers)"
      ],
      "metadata": {
        "id": "lT2bBzjonAHZ"
      },
      "execution_count": null,
      "outputs": []
    },
    {
      "cell_type": "code",
      "source": [
        "# This is for debugging\n",
        "train_idx.__len__(),valid_idx.__len__()"
      ],
      "metadata": {
        "colab": {
          "base_uri": "https://localhost:8080/"
        },
        "id": "mqyVXyR9nKVz",
        "outputId": "d37ae2d1-728c-42c3-f782-3ca09c4afb0f"
      },
      "execution_count": null,
      "outputs": [
        {
          "output_type": "execute_result",
          "data": {
            "text/plain": [
              "(48000, 12000)"
            ]
          },
          "metadata": {},
          "execution_count": 7
        }
      ]
    },
    {
      "cell_type": "code",
      "source": [
        "# Printing the length of our train, valid and test dataloaders\n",
        "# NOTE : Here batch size is 20\n",
        "len(train_loader),len(valid_loader),len(test_loader)"
      ],
      "metadata": {
        "colab": {
          "base_uri": "https://localhost:8080/"
        },
        "id": "IZfqD9KqnMSM",
        "outputId": "70c36bfc-679b-4fd0-d23d-53f596fdfbaa"
      },
      "execution_count": null,
      "outputs": [
        {
          "output_type": "execute_result",
          "data": {
            "text/plain": [
              "(2400, 600, 500)"
            ]
          },
          "metadata": {},
          "execution_count": 8
        }
      ]
    },
    {
      "cell_type": "code",
      "source": [
        "# checking our data\n",
        "dataiter=iter(train_loader)\n",
        "images,labels=dataiter.next()\n",
        "print(images, images.shape, len(images), images[0].shape)\n",
        "print()\n",
        "print(labels,labels.shape,len(labels))"
      ],
      "metadata": {
        "colab": {
          "base_uri": "https://localhost:8080/",
          "height": 211
        },
        "id": "8HCdyxMonQY_",
        "outputId": "34a7dd95-9216-45c1-aa2f-750b9d87d456"
      },
      "execution_count": null,
      "outputs": [
        {
          "output_type": "error",
          "ename": "AttributeError",
          "evalue": "'_SingleProcessDataLoaderIter' object has no attribute 'next'",
          "traceback": [
            "\u001b[0;31m---------------------------------------------------------------------------\u001b[0m",
            "\u001b[0;31mAttributeError\u001b[0m                            Traceback (most recent call last)",
            "\u001b[0;32m<ipython-input-9-6740d365101a>\u001b[0m in \u001b[0;36m<cell line: 3>\u001b[0;34m()\u001b[0m\n\u001b[1;32m      1\u001b[0m \u001b[0;31m# checking our data\u001b[0m\u001b[0;34m\u001b[0m\u001b[0;34m\u001b[0m\u001b[0m\n\u001b[1;32m      2\u001b[0m \u001b[0mdataiter\u001b[0m\u001b[0;34m=\u001b[0m\u001b[0miter\u001b[0m\u001b[0;34m(\u001b[0m\u001b[0mtrain_loader\u001b[0m\u001b[0;34m)\u001b[0m\u001b[0;34m\u001b[0m\u001b[0;34m\u001b[0m\u001b[0m\n\u001b[0;32m----> 3\u001b[0;31m \u001b[0mimages\u001b[0m\u001b[0;34m,\u001b[0m\u001b[0mlabels\u001b[0m\u001b[0;34m=\u001b[0m\u001b[0mdataiter\u001b[0m\u001b[0;34m.\u001b[0m\u001b[0mnext\u001b[0m\u001b[0;34m(\u001b[0m\u001b[0;34m)\u001b[0m\u001b[0;34m\u001b[0m\u001b[0;34m\u001b[0m\u001b[0m\n\u001b[0m\u001b[1;32m      4\u001b[0m \u001b[0mprint\u001b[0m\u001b[0;34m(\u001b[0m\u001b[0mimages\u001b[0m\u001b[0;34m,\u001b[0m \u001b[0mimages\u001b[0m\u001b[0;34m.\u001b[0m\u001b[0mshape\u001b[0m\u001b[0;34m,\u001b[0m \u001b[0mlen\u001b[0m\u001b[0;34m(\u001b[0m\u001b[0mimages\u001b[0m\u001b[0;34m)\u001b[0m\u001b[0;34m,\u001b[0m \u001b[0mimages\u001b[0m\u001b[0;34m[\u001b[0m\u001b[0;36m0\u001b[0m\u001b[0;34m]\u001b[0m\u001b[0;34m.\u001b[0m\u001b[0mshape\u001b[0m\u001b[0;34m)\u001b[0m\u001b[0;34m\u001b[0m\u001b[0;34m\u001b[0m\u001b[0m\n\u001b[1;32m      5\u001b[0m \u001b[0mprint\u001b[0m\u001b[0;34m(\u001b[0m\u001b[0;34m)\u001b[0m\u001b[0;34m\u001b[0m\u001b[0;34m\u001b[0m\u001b[0m\n",
            "\u001b[0;31mAttributeError\u001b[0m: '_SingleProcessDataLoaderIter' object has no attribute 'next'"
          ]
        }
      ]
    },
    {
      "cell_type": "code",
      "source": [
        "# Checking our data\n",
        "dataiter = iter(train_loader)\n",
        "images, labels = next(dataiter)  # Use next(dataiter) instead of dataiter.next()\n",
        "\n",
        "print(images, images.shape, len(images), images[0].shape)\n",
        "print()\n",
        "print(labels, labels.shape, len(labels))\n"
      ],
      "metadata": {
        "colab": {
          "base_uri": "https://localhost:8080/"
        },
        "id": "MRv0EEban5_X",
        "outputId": "aabd9234-0e30-41a2-e7dc-27e379410e28"
      },
      "execution_count": null,
      "outputs": [
        {
          "output_type": "stream",
          "name": "stdout",
          "text": [
            "tensor([[[[0., 0., 0.,  ..., 0., 0., 0.],\n",
            "          [0., 0., 0.,  ..., 0., 0., 0.],\n",
            "          [0., 0., 0.,  ..., 0., 0., 0.],\n",
            "          ...,\n",
            "          [0., 0., 0.,  ..., 0., 0., 0.],\n",
            "          [0., 0., 0.,  ..., 0., 0., 0.],\n",
            "          [0., 0., 0.,  ..., 0., 0., 0.]]],\n",
            "\n",
            "\n",
            "        [[[0., 0., 0.,  ..., 0., 0., 0.],\n",
            "          [0., 0., 0.,  ..., 0., 0., 0.],\n",
            "          [0., 0., 0.,  ..., 0., 0., 0.],\n",
            "          ...,\n",
            "          [0., 0., 0.,  ..., 0., 0., 0.],\n",
            "          [0., 0., 0.,  ..., 0., 0., 0.],\n",
            "          [0., 0., 0.,  ..., 0., 0., 0.]]],\n",
            "\n",
            "\n",
            "        [[[0., 0., 0.,  ..., 0., 0., 0.],\n",
            "          [0., 0., 0.,  ..., 0., 0., 0.],\n",
            "          [0., 0., 0.,  ..., 0., 0., 0.],\n",
            "          ...,\n",
            "          [0., 0., 0.,  ..., 0., 0., 0.],\n",
            "          [0., 0., 0.,  ..., 0., 0., 0.],\n",
            "          [0., 0., 0.,  ..., 0., 0., 0.]]],\n",
            "\n",
            "\n",
            "        ...,\n",
            "\n",
            "\n",
            "        [[[0., 0., 0.,  ..., 0., 0., 0.],\n",
            "          [0., 0., 0.,  ..., 0., 0., 0.],\n",
            "          [0., 0., 0.,  ..., 0., 0., 0.],\n",
            "          ...,\n",
            "          [0., 0., 0.,  ..., 0., 0., 0.],\n",
            "          [0., 0., 0.,  ..., 0., 0., 0.],\n",
            "          [0., 0., 0.,  ..., 0., 0., 0.]]],\n",
            "\n",
            "\n",
            "        [[[0., 0., 0.,  ..., 0., 0., 0.],\n",
            "          [0., 0., 0.,  ..., 0., 0., 0.],\n",
            "          [0., 0., 0.,  ..., 0., 0., 0.],\n",
            "          ...,\n",
            "          [0., 0., 0.,  ..., 0., 0., 0.],\n",
            "          [0., 0., 0.,  ..., 0., 0., 0.],\n",
            "          [0., 0., 0.,  ..., 0., 0., 0.]]],\n",
            "\n",
            "\n",
            "        [[[0., 0., 0.,  ..., 0., 0., 0.],\n",
            "          [0., 0., 0.,  ..., 0., 0., 0.],\n",
            "          [0., 0., 0.,  ..., 0., 0., 0.],\n",
            "          ...,\n",
            "          [0., 0., 0.,  ..., 0., 0., 0.],\n",
            "          [0., 0., 0.,  ..., 0., 0., 0.],\n",
            "          [0., 0., 0.,  ..., 0., 0., 0.]]]]) torch.Size([20, 1, 28, 28]) 20 torch.Size([1, 28, 28])\n",
            "\n",
            "tensor([7, 4, 4, 5, 5, 8, 8, 7, 2, 0, 8, 1, 0, 8, 1, 7, 8, 7, 7, 4]) torch.Size([20]) 20\n"
          ]
        }
      ]
    },
    {
      "cell_type": "code",
      "source": [
        "# Displaying images and labels of a batch\n",
        "fig=plt.figure(figsize=(30,10))\n",
        "for i in range(len(labels)):\n",
        "    ax=fig.add_subplot(2,10,i+1,xticks=[],yticks=[])\n",
        "    plt.imshow(np.squeeze(images[i]))\n",
        "    ax.set_title(labels[i].item(),color='blue')"
      ],
      "metadata": {
        "colab": {
          "base_uri": "https://localhost:8080/",
          "height": 194
        },
        "id": "GWHbvM4Nn-4E",
        "outputId": "d43c138a-2ec4-40bd-ae07-ee96788e9ba1"
      },
      "execution_count": null,
      "outputs": [
        {
          "output_type": "display_data",
          "data": {
            "text/plain": [
              "<Figure size 3000x1000 with 20 Axes>"
            ],
            "image/png": "[encoded data removed]"
          },
          "metadata": {}
        }
      ]
    },
    {
      "cell_type": "code",
      "source": [
        "# Model 1 : This model has dropout set to a certain value\n",
        "# NOTE : When we want to use dropout we ensure we run train() method on our model --- during training , if not required we should use eval() method --- validation and testing\n",
        "class FNet(nn.Module):\n",
        "    def __init__(self):\n",
        "        super(FNet,self).__init__()\n",
        "        self.fc1=nn.Linear(784,512)\n",
        "        self.fc2=nn.Linear(512,256)\n",
        "        self.out=nn.Linear(256,10)\n",
        "\n",
        "        # Dropout probability - set for avoiding overfitting\n",
        "        self.dropout=nn.Dropout(0.2)\n",
        "\n",
        "    def forward(self,x):\n",
        "        x = x.view(-1, 28 * 28)\n",
        "        x=self.dropout(F.relu(self.fc1(x)))\n",
        "        x=self.dropout(F.relu(self.fc2(x)))\n",
        "        x=self.out(x)\n",
        "        return x\n",
        "\n",
        "class convNet(nn.Module):\n",
        "  def __init__(self):\n",
        "    super(convNet,self).__init__()\n",
        "    self.conv1=nn.Conv2d(in_channels=1,out_channels=16,kernel_size=3,padding=1,stride=1)\n",
        "    self.conv2=nn.Conv2d(in_channels=16,out_channels=32,kernel_size=3,padding=1,stride=1)\n",
        "    self.pool=nn.MaxPool2d(kernel_size=2,stride=2)\n",
        "\n",
        "\n",
        "    self.fc1=nn.Linear(7*7*32,512)\n",
        "    self.fc2=nn.Linear(512,256)\n",
        "    self.out=nn.Linear(256,10)\n",
        "    self.dropout=nn.Dropout(0.2)\n",
        "\n",
        "  def forward(self,x):\n",
        "    x=self.pool(F.relu(self.conv1(x)))\n",
        "    x=self.pool(F.relu(self.conv2(x)))\n",
        "    x=x.view(-1,7*7*32)\n",
        "    x = self.dropout(x)\n",
        "    x=self.dropout(F.relu(self.fc1(x)))\n",
        "    x=self.dropout(F.relu(self.fc2(x)))\n",
        "    x=self.out(x)\n",
        "    return x"
      ],
      "metadata": {
        "id": "AEdjLEODoEn3"
      },
      "execution_count": null,
      "outputs": []
    },
    {
      "cell_type": "code",
      "source": [
        "model_1=FNet()\n",
        "model_2=convNet()\n",
        "\n",
        "def weight_init_normal(m):\n",
        "    classname=m.__class__.__name__\n",
        "    if classname.find('Linear')!=-1:\n",
        "        n = m.in_features\n",
        "        y = (1.0/np.sqrt(n))\n",
        "        m.weight.data.normal_(0, y)\n",
        "        m.bias.data.fill_(0)\n",
        "model_1.apply(weight_init_normal),model_2.apply(weight_init_normal)\n",
        "use_cuda=True\n",
        "if use_cuda and torch.cuda.is_available():\n",
        "  model_1.cuda()\n",
        "  model_2.cuda()\n",
        "\n",
        "\n",
        "print(model_1,'\\n\\n\\n\\n',model_2,'\\n\\n\\n\\n','On GPU : ',torch.cuda.is_available())\n"
      ],
      "metadata": {
        "colab": {
          "base_uri": "https://localhost:8080/"
        },
        "id": "x8jk1gEfoN5w",
        "outputId": "33491492-e836-40ef-9326-5661c90d0919"
      },
      "execution_count": null,
      "outputs": [
        {
          "output_type": "stream",
          "name": "stdout",
          "text": [
            "FNet(\n",
            "  (fc1): Linear(in_features=784, out_features=512, bias=True)\n",
            "  (fc2): Linear(in_features=512, out_features=256, bias=True)\n",
            "  (out): Linear(in_features=256, out_features=10, bias=True)\n",
            "  (dropout): Dropout(p=0.2, inplace=False)\n",
            ") \n",
            "\n",
            "\n",
            "\n",
            " convNet(\n",
            "  (conv1): Conv2d(1, 16, kernel_size=(3, 3), stride=(1, 1), padding=(1, 1))\n",
            "  (conv2): Conv2d(16, 32, kernel_size=(3, 3), stride=(1, 1), padding=(1, 1))\n",
            "  (pool): MaxPool2d(kernel_size=2, stride=2, padding=0, dilation=1, ceil_mode=False)\n",
            "  (fc1): Linear(in_features=1568, out_features=512, bias=True)\n",
            "  (fc2): Linear(in_features=512, out_features=256, bias=True)\n",
            "  (out): Linear(in_features=256, out_features=10, bias=True)\n",
            "  (dropout): Dropout(p=0.2, inplace=False)\n",
            ") \n",
            "\n",
            "\n",
            "\n",
            " On GPU :  False\n"
          ]
        }
      ]
    },
    {
      "cell_type": "code",
      "source": [
        "# Loss Function\n",
        "# If we did not compute softmax at output use nn.CrossentropyLoss() else use nn.NLLLoss()\n",
        "criterion=nn.CrossEntropyLoss()"
      ],
      "metadata": {
        "id": "1CRHXKtuoYx0"
      },
      "execution_count": null,
      "outputs": []
    },
    {
      "cell_type": "code",
      "source": [
        "def trainNet(model,lr):\n",
        "    optimizer=torch.optim.Adam(model.parameters(),lr=lr)\n",
        "\n",
        "\n",
        "    # Number of epochs to train for\n",
        "    loss_keeper={'train':[],'valid':[]}\n",
        "    epochs=20\n",
        "\n",
        "    # minimum validation loss ----- set initial minimum to infinity\n",
        "    valid_loss_min = np.Inf\n",
        "\n",
        "    for epoch in range(epochs):\n",
        "        train_loss=0.0\n",
        "        valid_loss=0.0\n",
        "\n",
        "        \"\"\"\n",
        "        TRAINING PHASE\n",
        "        \"\"\"\n",
        "        model.train() # TURN ON DROPOUT for training\n",
        "        for images,labels in train_loader:\n",
        "            if use_cuda and torch.cuda.is_available():\n",
        "                images,labels=images.cuda(),labels.cuda()\n",
        "            optimizer.zero_grad()\n",
        "            output=model(images)\n",
        "            loss=criterion(output,labels)\n",
        "            loss.backward()\n",
        "            optimizer.step()\n",
        "            train_loss+=loss.item()\n",
        "\n",
        "        \"\"\"\n",
        "        VALIDATION PHASE\n",
        "        \"\"\"\n",
        "        model.eval() # TURN OFF DROPOUT for validation\n",
        "        for images,labels in valid_loader:\n",
        "            if use_cuda and torch.cuda.is_available():\n",
        "                images,labels=images.cuda(),labels.cuda()\n",
        "            output=model(images)\n",
        "            loss=criterion(output,labels)\n",
        "            valid_loss+=loss.item()\n",
        "\n",
        "        # Calculating loss over entire batch size for every epoch\n",
        "        train_loss = train_loss/len(train_loader)\n",
        "        valid_loss = valid_loss/len(valid_loader)\n",
        "\n",
        "\n",
        "        # saving loss values\n",
        "        loss_keeper['train'].append(train_loss)\n",
        "        loss_keeper['valid'].append(valid_loss)\n",
        "        print(f\"\\nEpoch : {epoch+1}\\tTraining Loss : {train_loss}\\tValidation Loss : {valid_loss}\")\n",
        "        if valid_loss<=valid_loss_min:\n",
        "            print(f\"Validation loss decreased from : {valid_loss_min} ----> {valid_loss} ----> Saving Model.......\")\n",
        "            z=type(model).__name__\n",
        "            torch.save(model.state_dict(), z+'_model.pth')\n",
        "            valid_loss_min=valid_loss\n",
        "    return(loss_keeper)\n"
      ],
      "metadata": {
        "id": "r2psWo9YofPS"
      },
      "execution_count": null,
      "outputs": []
    },
    {
      "cell_type": "code",
      "source": [
        "m1_loss=trainNet(model_1,0.001)"
      ],
      "metadata": {
        "colab": {
          "base_uri": "https://localhost:8080/"
        },
        "id": "kVAuIfXNo8jp",
        "outputId": "70283bb1-2be9-4670-8246-80d4bdbc9212"
      },
      "execution_count": null,
      "outputs": [
        {
          "output_type": "stream",
          "name": "stdout",
          "text": [
            "\n",
            "Epoch : 1\tTraining Loss : 0.23882449870870914\tValidation Loss : 0.11769711266019536\n",
            "Validation loss decreased from : inf ----> 0.11769711266019536 ----> Saving Model.......\n",
            "\n",
            "Epoch : 2\tTraining Loss : 0.11811377162952946\tValidation Loss : 0.09586740300061744\n",
            "Validation loss decreased from : 0.11769711266019536 ----> 0.09586740300061744 ----> Saving Model.......\n",
            "\n",
            "Epoch : 3\tTraining Loss : 0.09254259549988395\tValidation Loss : 0.08934613512368135\n",
            "Validation loss decreased from : 0.09586740300061744 ----> 0.08934613512368135 ----> Saving Model.......\n",
            "\n",
            "Epoch : 4\tTraining Loss : 0.07592119563686159\tValidation Loss : 0.07837932718658218\n",
            "Validation loss decreased from : 0.08934613512368135 ----> 0.07837932718658218 ----> Saving Model.......\n",
            "\n",
            "Epoch : 5\tTraining Loss : 0.06527489203605986\tValidation Loss : 0.08512159274231332\n",
            "\n",
            "Epoch : 6\tTraining Loss : 0.05941606568836183\tValidation Loss : 0.09020571399695655\n",
            "\n",
            "Epoch : 7\tTraining Loss : 0.05077968701393767\tValidation Loss : 0.08503816487315285\n",
            "\n",
            "Epoch : 8\tTraining Loss : 0.04723651722162368\tValidation Loss : 0.08118503330340578\n",
            "\n",
            "Epoch : 9\tTraining Loss : 0.043988292414846024\tValidation Loss : 0.07430941974446796\n",
            "Validation loss decreased from : 0.07837932718658218 ----> 0.07430941974446796 ----> Saving Model.......\n",
            "\n",
            "Epoch : 10\tTraining Loss : 0.041176036288997214\tValidation Loss : 0.08295671384767635\n",
            "\n",
            "Epoch : 11\tTraining Loss : 0.03786145579060523\tValidation Loss : 0.10140930410018731\n",
            "\n",
            "Epoch : 12\tTraining Loss : 0.03984188253629519\tValidation Loss : 0.0952193424125907\n",
            "\n",
            "Epoch : 13\tTraining Loss : 0.04000340873191755\tValidation Loss : 0.09625613824465039\n",
            "\n",
            "Epoch : 14\tTraining Loss : 0.03582854422505925\tValidation Loss : 0.09246344784272542\n",
            "\n",
            "Epoch : 15\tTraining Loss : 0.03381562047823026\tValidation Loss : 0.08801486798428722\n",
            "\n",
            "Epoch : 16\tTraining Loss : 0.03161744500816761\tValidation Loss : 0.12174327790558588\n",
            "\n",
            "Epoch : 17\tTraining Loss : 0.029784633957312404\tValidation Loss : 0.11513837292915537\n",
            "\n",
            "Epoch : 18\tTraining Loss : 0.03212377478607506\tValidation Loss : 0.12519829929317886\n",
            "\n",
            "Epoch : 19\tTraining Loss : 0.031114505036851262\tValidation Loss : 0.10668708458638056\n",
            "\n",
            "Epoch : 20\tTraining Loss : 0.03183796147980731\tValidation Loss : 0.12940779518364964\n"
          ]
        }
      ]
    },
    {
      "cell_type": "code",
      "source": [
        "m1_loss"
      ],
      "metadata": {
        "colab": {
          "base_uri": "https://localhost:8080/"
        },
        "id": "BzHkBhyepAif",
        "outputId": "9835071a-0449-44db-a467-5d60b502a23b"
      },
      "execution_count": null,
      "outputs": [
        {
          "output_type": "execute_result",
          "data": {
            "text/plain": [
              "{'train': [0.23882449870870914,\n",
              "  0.11811377162952946,\n",
              "  0.09254259549988395,\n",
              "  0.07592119563686159,\n",
              "  0.06527489203605986,\n",
              "  0.05941606568836183,\n",
              "  0.05077968701393767,\n",
              "  0.04723651722162368,\n",
              "  0.043988292414846024,\n",
              "  0.041176036288997214,\n",
              "  0.03786145579060523,\n",
              "  0.03984188253629519,\n",
              "  0.04000340873191755,\n",
              "  0.03582854422505925,\n",
              "  0.03381562047823026,\n",
              "  0.03161744500816761,\n",
              "  0.029784633957312404,\n",
              "  0.03212377478607506,\n",
              "  0.031114505036851262,\n",
              "  0.03183796147980731],\n",
              " 'valid': [0.11769711266019536,\n",
              "  0.09586740300061744,\n",
              "  0.08934613512368135,\n",
              "  0.07837932718658218,\n",
              "  0.08512159274231332,\n",
              "  0.09020571399695655,\n",
              "  0.08503816487315285,\n",
              "  0.08118503330340578,\n",
              "  0.07430941974446796,\n",
              "  0.08295671384767635,\n",
              "  0.10140930410018731,\n",
              "  0.0952193424125907,\n",
              "  0.09625613824465039,\n",
              "  0.09246344784272542,\n",
              "  0.08801486798428722,\n",
              "  0.12174327790558588,\n",
              "  0.11513837292915537,\n",
              "  0.12519829929317886,\n",
              "  0.10668708458638056,\n",
              "  0.12940779518364964]}"
            ]
          },
          "metadata": {},
          "execution_count": 17
        }
      ]
    },
    {
      "cell_type": "code",
      "source": [
        "m2_loss=trainNet(model_2,0.001)"
      ],
      "metadata": {
        "colab": {
          "base_uri": "https://localhost:8080/"
        },
        "id": "EUSa2X0_r219",
        "outputId": "1593234d-a910-4493-dd46-dbffcd8d9c70"
      },
      "execution_count": null,
      "outputs": [
        {
          "output_type": "stream",
          "name": "stdout",
          "text": [
            "\n",
            "Epoch : 1\tTraining Loss : 0.17904801884292587\tValidation Loss : 0.048901385889403175\n",
            "Validation loss decreased from : inf ----> 0.048901385889403175 ----> Saving Model.......\n",
            "\n",
            "Epoch : 2\tTraining Loss : 0.0681813560112702\tValidation Loss : 0.039326925120946425\n",
            "Validation loss decreased from : 0.048901385889403175 ----> 0.039326925120946425 ----> Saving Model.......\n",
            "\n",
            "Epoch : 3\tTraining Loss : 0.05339862021865429\tValidation Loss : 0.041263863306497416\n",
            "\n",
            "Epoch : 4\tTraining Loss : 0.041305178142988175\tValidation Loss : 0.03869307724184637\n",
            "Validation loss decreased from : 0.039326925120946425 ----> 0.03869307724184637 ----> Saving Model.......\n",
            "\n",
            "Epoch : 5\tTraining Loss : 0.03661000329454547\tValidation Loss : 0.03517023353742426\n",
            "Validation loss decreased from : 0.03869307724184637 ----> 0.03517023353742426 ----> Saving Model.......\n",
            "\n",
            "Epoch : 6\tTraining Loss : 0.029191064817843396\tValidation Loss : 0.04233192235495987\n",
            "\n",
            "Epoch : 7\tTraining Loss : 0.028084161003634592\tValidation Loss : 0.03418473789713971\n",
            "Validation loss decreased from : 0.03517023353742426 ----> 0.03418473789713971 ----> Saving Model.......\n",
            "\n",
            "Epoch : 8\tTraining Loss : 0.023542525729662114\tValidation Loss : 0.039880254368338586\n",
            "\n",
            "Epoch : 9\tTraining Loss : 0.02209178055188817\tValidation Loss : 0.044730818799249644\n",
            "\n",
            "Epoch : 10\tTraining Loss : 0.021860235742940524\tValidation Loss : 0.045577568893855114\n",
            "\n",
            "Epoch : 11\tTraining Loss : 0.019814875450287678\tValidation Loss : 0.0415943483302981\n",
            "\n",
            "Epoch : 12\tTraining Loss : 0.0195841908589855\tValidation Loss : 0.048499473129059764\n",
            "\n",
            "Epoch : 13\tTraining Loss : 0.016812275481836895\tValidation Loss : 0.05896907962894289\n",
            "\n",
            "Epoch : 14\tTraining Loss : 0.018096021674984027\tValidation Loss : 0.05299905218412972\n",
            "\n",
            "Epoch : 15\tTraining Loss : 0.01321153820003392\tValidation Loss : 0.04542294155165621\n",
            "\n",
            "Epoch : 16\tTraining Loss : 0.01724491651962732\tValidation Loss : 0.058189376786510844\n",
            "\n",
            "Epoch : 17\tTraining Loss : 0.017179891915093403\tValidation Loss : 0.04871612219976783\n",
            "\n",
            "Epoch : 18\tTraining Loss : 0.013332609740663097\tValidation Loss : 0.042348093630315976\n",
            "\n",
            "Epoch : 19\tTraining Loss : 0.01521293536839641\tValidation Loss : 0.04755117121159244\n",
            "\n",
            "Epoch : 20\tTraining Loss : 0.014461732915847986\tValidation Loss : 0.05340232764402894\n"
          ]
        }
      ]
    },
    {
      "cell_type": "code",
      "source": [
        "m2_loss"
      ],
      "metadata": {
        "colab": {
          "base_uri": "https://localhost:8080/"
        },
        "id": "S6vqOTfLy1dO",
        "outputId": "106361eb-1cd7-4083-f322-43a42f89b6ce"
      },
      "execution_count": null,
      "outputs": [
        {
          "output_type": "execute_result",
          "data": {
            "text/plain": [
              "{'train': [0.17904801884292587,\n",
              "  0.0681813560112702,\n",
              "  0.05339862021865429,\n",
              "  0.041305178142988175,\n",
              "  0.03661000329454547,\n",
              "  0.029191064817843396,\n",
              "  0.028084161003634592,\n",
              "  0.023542525729662114,\n",
              "  0.02209178055188817,\n",
              "  0.021860235742940524,\n",
              "  0.019814875450287678,\n",
              "  0.0195841908589855,\n",
              "  0.016812275481836895,\n",
              "  0.018096021674984027,\n",
              "  0.01321153820003392,\n",
              "  0.01724491651962732,\n",
              "  0.017179891915093403,\n",
              "  0.013332609740663097,\n",
              "  0.01521293536839641,\n",
              "  0.014461732915847986],\n",
              " 'valid': [0.048901385889403175,\n",
              "  0.039326925120946425,\n",
              "  0.041263863306497416,\n",
              "  0.03869307724184637,\n",
              "  0.03517023353742426,\n",
              "  0.04233192235495987,\n",
              "  0.03418473789713971,\n",
              "  0.039880254368338586,\n",
              "  0.044730818799249644,\n",
              "  0.045577568893855114,\n",
              "  0.0415943483302981,\n",
              "  0.048499473129059764,\n",
              "  0.05896907962894289,\n",
              "  0.05299905218412972,\n",
              "  0.04542294155165621,\n",
              "  0.058189376786510844,\n",
              "  0.04871612219976783,\n",
              "  0.042348093630315976,\n",
              "  0.04755117121159244,\n",
              "  0.05340232764402894]}"
            ]
          },
          "metadata": {},
          "execution_count": 19
        }
      ]
    },
    {
      "cell_type": "code",
      "source": [
        "# Loading the model from the lowest validation loss\n",
        "model_1.load_state_dict(torch.load('FNet_model.pth'))\n",
        "model_2.load_state_dict(torch.load('convNet_model.pth'))"
      ],
      "metadata": {
        "colab": {
          "base_uri": "https://localhost:8080/"
        },
        "id": "uP6EtsSZy4S1",
        "outputId": "4c5379b9-9217-47fc-ae22-2cb16a842e23"
      },
      "execution_count": null,
      "outputs": [
        {
          "output_type": "stream",
          "name": "stderr",
          "text": [
            "<ipython-input-20-22c1857e28ba>:2: FutureWarning: You are using `torch.load` with `weights_only=False` (the current default value), which uses the default pickle module implicitly. It is possible to construct malicious pickle data which will execute arbitrary code during unpickling (See https://github.com/pytorch/pytorch/blob/main/SECURITY.md#untrusted-models for more details). In a future release, the default value for `weights_only` will be flipped to `True`. This limits the functions that could be executed during unpickling. Arbitrary objects will no longer be allowed to be loaded via this mode unless they are explicitly allowlisted by the user via `torch.serialization.add_safe_globals`. We recommend you start setting `weights_only=True` for any use case where you don't have full control of the loaded file. Please open an issue on GitHub for any issues related to this experimental feature.\n",
            "  model_1.load_state_dict(torch.load('FNet_model.pth'))\n",
            "<ipython-input-20-22c1857e28ba>:3: FutureWarning: You are using `torch.load` with `weights_only=False` (the current default value), which uses the default pickle module implicitly. It is possible to construct malicious pickle data which will execute arbitrary code during unpickling (See https://github.com/pytorch/pytorch/blob/main/SECURITY.md#untrusted-models for more details). In a future release, the default value for `weights_only` will be flipped to `True`. This limits the functions that could be executed during unpickling. Arbitrary objects will no longer be allowed to be loaded via this mode unless they are explicitly allowlisted by the user via `torch.serialization.add_safe_globals`. We recommend you start setting `weights_only=True` for any use case where you don't have full control of the loaded file. Please open an issue on GitHub for any issues related to this experimental feature.\n",
            "  model_2.load_state_dict(torch.load('convNet_model.pth'))\n"
          ]
        },
        {
          "output_type": "execute_result",
          "data": {
            "text/plain": [
              "<All keys matched successfully>"
            ]
          },
          "metadata": {},
          "execution_count": 20
        }
      ]
    },
    {
      "cell_type": "code",
      "source": [
        "print(model_1.state_dict,'\\n\\n\\n\\n',model_2.state_dict)"
      ],
      "metadata": {
        "colab": {
          "base_uri": "https://localhost:8080/"
        },
        "id": "atASLTN2y7De",
        "outputId": "7a2a8a47-6b1d-43c7-d33a-7bcfecc72592"
      },
      "execution_count": null,
      "outputs": [
        {
          "output_type": "stream",
          "name": "stdout",
          "text": [
            "<bound method Module.state_dict of FNet(\n",
            "  (fc1): Linear(in_features=784, out_features=512, bias=True)\n",
            "  (fc2): Linear(in_features=512, out_features=256, bias=True)\n",
            "  (out): Linear(in_features=256, out_features=10, bias=True)\n",
            "  (dropout): Dropout(p=0.2, inplace=False)\n",
            ")> \n",
            "\n",
            "\n",
            "\n",
            " <bound method Module.state_dict of convNet(\n",
            "  (conv1): Conv2d(1, 16, kernel_size=(3, 3), stride=(1, 1), padding=(1, 1))\n",
            "  (conv2): Conv2d(16, 32, kernel_size=(3, 3), stride=(1, 1), padding=(1, 1))\n",
            "  (pool): MaxPool2d(kernel_size=2, stride=2, padding=0, dilation=1, ceil_mode=False)\n",
            "  (fc1): Linear(in_features=1568, out_features=512, bias=True)\n",
            "  (fc2): Linear(in_features=512, out_features=256, bias=True)\n",
            "  (out): Linear(in_features=256, out_features=10, bias=True)\n",
            "  (dropout): Dropout(p=0.2, inplace=False)\n",
            ")>\n"
          ]
        }
      ]
    },
    {
      "cell_type": "code",
      "source": [
        "title=['FFNN','CNN']\n",
        "model_losses=[m1_loss,m2_loss]\n",
        "fig=plt.figure(1,figsize=(10,5))\n",
        "idx=1\n",
        "for i in model_losses:\n",
        "  ax=fig.add_subplot(1,2,idx)\n",
        "  ax.plot(i['train'],label=\"Training Loss\")\n",
        "  ax.plot(i['valid'],label=\"Validation Loss\")\n",
        "  ax.set_title('MNIST-Digits : '+title[idx-1])\n",
        "  idx+=1\n",
        "  plt.legend();"
      ],
      "metadata": {
        "colab": {
          "base_uri": "https://localhost:8080/",
          "height": 357
        },
        "id": "8W2sfhtoy920",
        "outputId": "40fa78e6-1d7a-4113-cd62-01885fb35c29"
      },
      "execution_count": null,
      "outputs": [
        {
          "output_type": "display_data",
          "data": {
            "text/plain": [
              "<Figure size 1000x500 with 2 Axes>"
            ],
            "image/png": "[encoded data removed]"
          },
          "metadata": {}
        }
      ]
    },
    {
      "cell_type": "code",
      "source": [
        "def test(model):\n",
        "    correct=0\n",
        "    test_loss=0\n",
        "    class_correct = list(0. for i in range(10))\n",
        "    class_total = list(0. for i in range(10))\n",
        "\n",
        "    model.eval() # test the model with dropout layers off\n",
        "    for images,labels in test_loader:\n",
        "        if use_cuda and torch.cuda.is_available():\n",
        "            images,labels=images.cuda(),labels.cuda()\n",
        "        output=model(images)\n",
        "        loss=criterion(output,labels)\n",
        "        test_loss+=loss.item()\n",
        "        _,pred=torch.max(output,1)\n",
        "        correct = np.squeeze(pred.eq(labels.data.view_as(pred)))\n",
        "\n",
        "        for i in range(batch_size):\n",
        "            label = labels.data[i]\n",
        "            class_correct[label] += correct[i].item()\n",
        "            class_total[label] += 1\n",
        "    test_loss=test_loss/len(test_loader)\n",
        "    print(f'For {type(model).__name__} :')\n",
        "    print(f\"Test Loss: {test_loss}\")\n",
        "    print(f\"Correctly predicted per class : {class_correct}, Total correctly perdicted : {sum(class_correct)}\")\n",
        "    print(f\"Total Predictions per class : {class_total}, Total predictions to be made : {sum(class_total)}\\n\")\n",
        "    for i in range(10):\n",
        "      if class_total[i] > 0:\n",
        "          print(f\"Test Accuracy of class {i} : {float(100 * class_correct[i] / class_total[i])}% where {int(np.sum(class_correct[i]))} of {int(np.sum(class_total[i]))} were predicted correctly\")\n",
        "      else:\n",
        "          print('Test Accuracy of %5s: N/A (no training examples)' % (classes[i]))\n",
        "\n",
        "    print(f\"\\nOverall Test Accuracy : {float(100. * np.sum(class_correct) / np.sum(class_total))}% where {int(np.sum(class_correct))} of {int(np.sum(class_total))} were predicted correctly\")\n",
        "    # obtain one batch of test images\n",
        "    # dataiter = iter(test_loader)\n",
        "    # images, labels = dataiter.next()\n",
        "    dataiter = iter(test_loader)\n",
        "    images, labels = next(dataiter)\n",
        "\n",
        "    # get sample outputs\n",
        "    if use_cuda and torch.cuda.is_available():\n",
        "      images,labels=images.cuda(),labels.cuda()\n",
        "    output = model(images)\n",
        "    # convert output probabilities to predicted class\n",
        "    _, preds = torch.max(output, 1)\n",
        "    # prep images for display\n",
        "    images = images.cpu().numpy()\n",
        "     # plot the images in the batch, along with predicted and true labels\n",
        "    fig = plt.figure(figsize=(25, 4))\n",
        "    for idx in np.arange(20):\n",
        "        ax = fig.add_subplot(2, 20/2, idx+1, xticks=[], yticks=[])\n",
        "        ax.imshow(np.squeeze(images[idx]))\n",
        "        ax.set_title(\"{} for ({})\".format(str(preds[idx].item()), str(labels[idx].item())),\n",
        "                    color=(\"blue\" if preds[idx]==labels[idx] else \"red\"))\n"
      ],
      "metadata": {
        "id": "79l0EZWgzHLr"
      },
      "execution_count": null,
      "outputs": []
    },
    {
      "cell_type": "code",
      "source": [
        "test(model_1)\n"
      ],
      "metadata": {
        "colab": {
          "base_uri": "https://localhost:8080/",
          "height": 671
        },
        "id": "SPg4f0JozkIG",
        "outputId": "3da85cb3-b36d-4b90-8a61-2d3891244e6c"
      },
      "execution_count": null,
      "outputs": [
        {
          "output_type": "stream",
          "name": "stdout",
          "text": [
            "For FNet :\n",
            "Test Loss: 0.08323297218284352\n",
            "Correctly predicted per class : [965.0, 1126.0, 1017.0, 996.0, 966.0, 868.0, 936.0, 1008.0, 957.0, 970.0], Total correctly perdicted : 9809.0\n",
            "Total Predictions per class : [980.0, 1135.0, 1032.0, 1010.0, 982.0, 892.0, 958.0, 1028.0, 974.0, 1009.0], Total predictions to be made : 10000.0\n",
            "\n",
            "Test Accuracy of class 0 : 98.46938775510205% where 965 of 980 were predicted correctly\n",
            "Test Accuracy of class 1 : 99.20704845814979% where 1126 of 1135 were predicted correctly\n",
            "Test Accuracy of class 2 : 98.54651162790698% where 1017 of 1032 were predicted correctly\n",
            "Test Accuracy of class 3 : 98.61386138613861% where 996 of 1010 were predicted correctly\n",
            "Test Accuracy of class 4 : 98.37067209775968% where 966 of 982 were predicted correctly\n",
            "Test Accuracy of class 5 : 97.30941704035874% where 868 of 892 were predicted correctly\n",
            "Test Accuracy of class 6 : 97.7035490605428% where 936 of 958 were predicted correctly\n",
            "Test Accuracy of class 7 : 98.05447470817121% where 1008 of 1028 were predicted correctly\n",
            "Test Accuracy of class 8 : 98.25462012320328% where 957 of 974 were predicted correctly\n",
            "Test Accuracy of class 9 : 96.13478691774034% where 970 of 1009 were predicted correctly\n",
            "\n",
            "Overall Test Accuracy : 98.09% where 9809 of 10000 were predicted correctly\n"
          ]
        },
        {
          "output_type": "error",
          "ename": "ValueError",
          "evalue": "Number of columns must be a positive integer, not 10.0",
          "traceback": [
            "\u001b[0;31m---------------------------------------------------------------------------\u001b[0m",
            "\u001b[0;31mValueError\u001b[0m                                Traceback (most recent call last)",
            "\u001b[0;32m<ipython-input-27-f950517ed667>\u001b[0m in \u001b[0;36m<cell line: 1>\u001b[0;34m()\u001b[0m\n\u001b[0;32m----> 1\u001b[0;31m \u001b[0mtest\u001b[0m\u001b[0;34m(\u001b[0m\u001b[0mmodel_1\u001b[0m\u001b[0;34m)\u001b[0m\u001b[0;34m\u001b[0m\u001b[0;34m\u001b[0m\u001b[0m\n\u001b[0m",
            "\u001b[0;32m<ipython-input-26-a7ee14360293>\u001b[0m in \u001b[0;36mtest\u001b[0;34m(model)\u001b[0m\n\u001b[1;32m     48\u001b[0m     \u001b[0mfig\u001b[0m \u001b[0;34m=\u001b[0m \u001b[0mplt\u001b[0m\u001b[0;34m.\u001b[0m\u001b[0mfigure\u001b[0m\u001b[0;34m(\u001b[0m\u001b[0mfigsize\u001b[0m\u001b[0;34m=\u001b[0m\u001b[0;34m(\u001b[0m\u001b[0;36m25\u001b[0m\u001b[0;34m,\u001b[0m \u001b[0;36m4\u001b[0m\u001b[0;34m)\u001b[0m\u001b[0;34m)\u001b[0m\u001b[0;34m\u001b[0m\u001b[0;34m\u001b[0m\u001b[0m\n\u001b[1;32m     49\u001b[0m     \u001b[0;32mfor\u001b[0m \u001b[0midx\u001b[0m \u001b[0;32min\u001b[0m \u001b[0mnp\u001b[0m\u001b[0;34m.\u001b[0m\u001b[0marange\u001b[0m\u001b[0;34m(\u001b[0m\u001b[0;36m20\u001b[0m\u001b[0;34m)\u001b[0m\u001b[0;34m:\u001b[0m\u001b[0;34m\u001b[0m\u001b[0;34m\u001b[0m\u001b[0m\n\u001b[0;32m---> 50\u001b[0;31m         \u001b[0max\u001b[0m \u001b[0;34m=\u001b[0m \u001b[0mfig\u001b[0m\u001b[0;34m.\u001b[0m\u001b[0madd_subplot\u001b[0m\u001b[0;34m(\u001b[0m\u001b[0;36m2\u001b[0m\u001b[0;34m,\u001b[0m \u001b[0;36m20\u001b[0m\u001b[0;34m/\u001b[0m\u001b[0;36m2\u001b[0m\u001b[0;34m,\u001b[0m \u001b[0midx\u001b[0m\u001b[0;34m+\u001b[0m\u001b[0;36m1\u001b[0m\u001b[0;34m,\u001b[0m \u001b[0mxticks\u001b[0m\u001b[0;34m=\u001b[0m\u001b[0;34m[\u001b[0m\u001b[0;34m]\u001b[0m\u001b[0;34m,\u001b[0m \u001b[0myticks\u001b[0m\u001b[0;34m=\u001b[0m\u001b[0;34m[\u001b[0m\u001b[0;34m]\u001b[0m\u001b[0;34m)\u001b[0m\u001b[0;34m\u001b[0m\u001b[0;34m\u001b[0m\u001b[0m\n\u001b[0m\u001b[1;32m     51\u001b[0m         \u001b[0max\u001b[0m\u001b[0;34m.\u001b[0m\u001b[0mimshow\u001b[0m\u001b[0;34m(\u001b[0m\u001b[0mnp\u001b[0m\u001b[0;34m.\u001b[0m\u001b[0msqueeze\u001b[0m\u001b[0;34m(\u001b[0m\u001b[0mimages\u001b[0m\u001b[0;34m[\u001b[0m\u001b[0midx\u001b[0m\u001b[0;34m]\u001b[0m\u001b[0;34m)\u001b[0m\u001b[0;34m)\u001b[0m\u001b[0;34m\u001b[0m\u001b[0;34m\u001b[0m\u001b[0m\n\u001b[1;32m     52\u001b[0m         ax.set_title(\"{} for ({})\".format(str(preds[idx].item()), str(labels[idx].item())),\n",
            "\u001b[0;32m/usr/local/lib/python3.10/dist-packages/matplotlib/figure.py\u001b[0m in \u001b[0;36madd_subplot\u001b[0;34m(self, *args, **kwargs)\u001b[0m\n\u001b[1;32m    780\u001b[0m                 \u001b[0margs\u001b[0m \u001b[0;34m=\u001b[0m \u001b[0mtuple\u001b[0m\u001b[0;34m(\u001b[0m\u001b[0mmap\u001b[0m\u001b[0;34m(\u001b[0m\u001b[0mint\u001b[0m\u001b[0;34m,\u001b[0m \u001b[0mstr\u001b[0m\u001b[0;34m(\u001b[0m\u001b[0margs\u001b[0m\u001b[0;34m[\u001b[0m\u001b[0;36m0\u001b[0m\u001b[0;34m]\u001b[0m\u001b[0;34m)\u001b[0m\u001b[0;34m)\u001b[0m\u001b[0;34m)\u001b[0m\u001b[0;34m\u001b[0m\u001b[0;34m\u001b[0m\u001b[0m\n\u001b[1;32m    781\u001b[0m             \u001b[0mprojection_class\u001b[0m\u001b[0;34m,\u001b[0m \u001b[0mpkw\u001b[0m \u001b[0;34m=\u001b[0m \u001b[0mself\u001b[0m\u001b[0;34m.\u001b[0m\u001b[0m_process_projection_requirements\u001b[0m\u001b[0;34m(\u001b[0m\u001b[0;34m**\u001b[0m\u001b[0mkwargs\u001b[0m\u001b[0;34m)\u001b[0m\u001b[0;34m\u001b[0m\u001b[0;34m\u001b[0m\u001b[0m\n\u001b[0;32m--> 782\u001b[0;31m             \u001b[0max\u001b[0m \u001b[0;34m=\u001b[0m \u001b[0mprojection_class\u001b[0m\u001b[0;34m(\u001b[0m\u001b[0mself\u001b[0m\u001b[0;34m,\u001b[0m \u001b[0;34m*\u001b[0m\u001b[0margs\u001b[0m\u001b[0;34m,\u001b[0m \u001b[0;34m**\u001b[0m\u001b[0mpkw\u001b[0m\u001b[0;34m)\u001b[0m\u001b[0;34m\u001b[0m\u001b[0;34m\u001b[0m\u001b[0m\n\u001b[0m\u001b[1;32m    783\u001b[0m             \u001b[0mkey\u001b[0m \u001b[0;34m=\u001b[0m \u001b[0;34m(\u001b[0m\u001b[0mprojection_class\u001b[0m\u001b[0;34m,\u001b[0m \u001b[0mpkw\u001b[0m\u001b[0;34m)\u001b[0m\u001b[0;34m\u001b[0m\u001b[0;34m\u001b[0m\u001b[0m\n\u001b[1;32m    784\u001b[0m         \u001b[0;32mreturn\u001b[0m \u001b[0mself\u001b[0m\u001b[0;34m.\u001b[0m\u001b[0m_add_axes_internal\u001b[0m\u001b[0;34m(\u001b[0m\u001b[0max\u001b[0m\u001b[0;34m,\u001b[0m \u001b[0mkey\u001b[0m\u001b[0;34m)\u001b[0m\u001b[0;34m\u001b[0m\u001b[0;34m\u001b[0m\u001b[0m\n",
            "\u001b[0;32m/usr/local/lib/python3.10/dist-packages/matplotlib/axes/_base.py\u001b[0m in \u001b[0;36m__init__\u001b[0;34m(self, fig, facecolor, frameon, sharex, sharey, label, xscale, yscale, box_aspect, *args, **kwargs)\u001b[0m\n\u001b[1;32m    637\u001b[0m         \u001b[0;32melse\u001b[0m\u001b[0;34m:\u001b[0m\u001b[0;34m\u001b[0m\u001b[0;34m\u001b[0m\u001b[0m\n\u001b[1;32m    638\u001b[0m             \u001b[0mself\u001b[0m\u001b[0;34m.\u001b[0m\u001b[0m_position\u001b[0m \u001b[0;34m=\u001b[0m \u001b[0mself\u001b[0m\u001b[0;34m.\u001b[0m\u001b[0m_originalPosition\u001b[0m \u001b[0;34m=\u001b[0m \u001b[0mmtransforms\u001b[0m\u001b[0;34m.\u001b[0m\u001b[0mBbox\u001b[0m\u001b[0;34m.\u001b[0m\u001b[0munit\u001b[0m\u001b[0;34m(\u001b[0m\u001b[0;34m)\u001b[0m\u001b[0;34m\u001b[0m\u001b[0;34m\u001b[0m\u001b[0m\n\u001b[0;32m--> 639\u001b[0;31m             \u001b[0msubplotspec\u001b[0m \u001b[0;34m=\u001b[0m \u001b[0mSubplotSpec\u001b[0m\u001b[0;34m.\u001b[0m\u001b[0m_from_subplot_args\u001b[0m\u001b[0;34m(\u001b[0m\u001b[0mfig\u001b[0m\u001b[0;34m,\u001b[0m \u001b[0margs\u001b[0m\u001b[0;34m)\u001b[0m\u001b[0;34m\u001b[0m\u001b[0;34m\u001b[0m\u001b[0m\n\u001b[0m\u001b[1;32m    640\u001b[0m         \u001b[0;32mif\u001b[0m \u001b[0mself\u001b[0m\u001b[0;34m.\u001b[0m\u001b[0m_position\u001b[0m\u001b[0;34m.\u001b[0m\u001b[0mwidth\u001b[0m \u001b[0;34m<\u001b[0m \u001b[0;36m0\u001b[0m \u001b[0;32mor\u001b[0m \u001b[0mself\u001b[0m\u001b[0;34m.\u001b[0m\u001b[0m_position\u001b[0m\u001b[0;34m.\u001b[0m\u001b[0mheight\u001b[0m \u001b[0;34m<\u001b[0m \u001b[0;36m0\u001b[0m\u001b[0;34m:\u001b[0m\u001b[0;34m\u001b[0m\u001b[0;34m\u001b[0m\u001b[0m\n\u001b[1;32m    641\u001b[0m             \u001b[0;32mraise\u001b[0m \u001b[0mValueError\u001b[0m\u001b[0;34m(\u001b[0m\u001b[0;34m'Width and height specified must be non-negative'\u001b[0m\u001b[0;34m)\u001b[0m\u001b[0;34m\u001b[0m\u001b[0;34m\u001b[0m\u001b[0m\n",
            "\u001b[0;32m/usr/local/lib/python3.10/dist-packages/matplotlib/gridspec.py\u001b[0m in \u001b[0;36m_from_subplot_args\u001b[0;34m(figure, args)\u001b[0m\n\u001b[1;32m    586\u001b[0m             \u001b[0;32mraise\u001b[0m \u001b[0m_api\u001b[0m\u001b[0;34m.\u001b[0m\u001b[0mnargs_error\u001b[0m\u001b[0;34m(\u001b[0m\u001b[0;34m\"subplot\"\u001b[0m\u001b[0;34m,\u001b[0m \u001b[0mtakes\u001b[0m\u001b[0;34m=\u001b[0m\u001b[0;34m\"1 or 3\"\u001b[0m\u001b[0;34m,\u001b[0m \u001b[0mgiven\u001b[0m\u001b[0;34m=\u001b[0m\u001b[0mlen\u001b[0m\u001b[0;34m(\u001b[0m\u001b[0margs\u001b[0m\u001b[0;34m)\u001b[0m\u001b[0;34m)\u001b[0m\u001b[0;34m\u001b[0m\u001b[0;34m\u001b[0m\u001b[0m\n\u001b[1;32m    587\u001b[0m \u001b[0;34m\u001b[0m\u001b[0m\n\u001b[0;32m--> 588\u001b[0;31m         \u001b[0mgs\u001b[0m \u001b[0;34m=\u001b[0m \u001b[0mGridSpec\u001b[0m\u001b[0;34m.\u001b[0m\u001b[0m_check_gridspec_exists\u001b[0m\u001b[0;34m(\u001b[0m\u001b[0mfigure\u001b[0m\u001b[0;34m,\u001b[0m \u001b[0mrows\u001b[0m\u001b[0;34m,\u001b[0m \u001b[0mcols\u001b[0m\u001b[0;34m)\u001b[0m\u001b[0;34m\u001b[0m\u001b[0;34m\u001b[0m\u001b[0m\n\u001b[0m\u001b[1;32m    589\u001b[0m         \u001b[0;32mif\u001b[0m \u001b[0mgs\u001b[0m \u001b[0;32mis\u001b[0m \u001b[0;32mNone\u001b[0m\u001b[0;34m:\u001b[0m\u001b[0;34m\u001b[0m\u001b[0;34m\u001b[0m\u001b[0m\n\u001b[1;32m    590\u001b[0m             \u001b[0mgs\u001b[0m \u001b[0;34m=\u001b[0m \u001b[0mGridSpec\u001b[0m\u001b[0;34m(\u001b[0m\u001b[0mrows\u001b[0m\u001b[0;34m,\u001b[0m \u001b[0mcols\u001b[0m\u001b[0;34m,\u001b[0m \u001b[0mfigure\u001b[0m\u001b[0;34m=\u001b[0m\u001b[0mfigure\u001b[0m\u001b[0;34m)\u001b[0m\u001b[0;34m\u001b[0m\u001b[0;34m\u001b[0m\u001b[0m\n",
            "\u001b[0;32m/usr/local/lib/python3.10/dist-packages/matplotlib/gridspec.py\u001b[0m in \u001b[0;36m_check_gridspec_exists\u001b[0;34m(figure, nrows, ncols)\u001b[0m\n\u001b[1;32m    223\u001b[0m                     \u001b[0;32mreturn\u001b[0m \u001b[0mgs\u001b[0m\u001b[0;34m\u001b[0m\u001b[0;34m\u001b[0m\u001b[0m\n\u001b[1;32m    224\u001b[0m         \u001b[0;31m# else gridspec not found:\u001b[0m\u001b[0;34m\u001b[0m\u001b[0;34m\u001b[0m\u001b[0m\n\u001b[0;32m--> 225\u001b[0;31m         \u001b[0;32mreturn\u001b[0m \u001b[0mGridSpec\u001b[0m\u001b[0;34m(\u001b[0m\u001b[0mnrows\u001b[0m\u001b[0;34m,\u001b[0m \u001b[0mncols\u001b[0m\u001b[0;34m,\u001b[0m \u001b[0mfigure\u001b[0m\u001b[0;34m=\u001b[0m\u001b[0mfigure\u001b[0m\u001b[0;34m)\u001b[0m\u001b[0;34m\u001b[0m\u001b[0;34m\u001b[0m\u001b[0m\n\u001b[0m\u001b[1;32m    226\u001b[0m \u001b[0;34m\u001b[0m\u001b[0m\n\u001b[1;32m    227\u001b[0m     \u001b[0;32mdef\u001b[0m \u001b[0m__getitem__\u001b[0m\u001b[0;34m(\u001b[0m\u001b[0mself\u001b[0m\u001b[0;34m,\u001b[0m \u001b[0mkey\u001b[0m\u001b[0;34m)\u001b[0m\u001b[0;34m:\u001b[0m\u001b[0;34m\u001b[0m\u001b[0;34m\u001b[0m\u001b[0m\n",
            "\u001b[0;32m/usr/local/lib/python3.10/dist-packages/matplotlib/gridspec.py\u001b[0m in \u001b[0;36m__init__\u001b[0;34m(self, nrows, ncols, figure, left, bottom, right, top, wspace, hspace, width_ratios, height_ratios)\u001b[0m\n\u001b[1;32m    376\u001b[0m         \u001b[0mself\u001b[0m\u001b[0;34m.\u001b[0m\u001b[0mfigure\u001b[0m \u001b[0;34m=\u001b[0m \u001b[0mfigure\u001b[0m\u001b[0;34m\u001b[0m\u001b[0;34m\u001b[0m\u001b[0m\n\u001b[1;32m    377\u001b[0m \u001b[0;34m\u001b[0m\u001b[0m\n\u001b[0;32m--> 378\u001b[0;31m         super().__init__(nrows, ncols,\n\u001b[0m\u001b[1;32m    379\u001b[0m                          \u001b[0mwidth_ratios\u001b[0m\u001b[0;34m=\u001b[0m\u001b[0mwidth_ratios\u001b[0m\u001b[0;34m,\u001b[0m\u001b[0;34m\u001b[0m\u001b[0;34m\u001b[0m\u001b[0m\n\u001b[1;32m    380\u001b[0m                          height_ratios=height_ratios)\n",
            "\u001b[0;32m/usr/local/lib/python3.10/dist-packages/matplotlib/gridspec.py\u001b[0m in \u001b[0;36m__init__\u001b[0;34m(self, nrows, ncols, height_ratios, width_ratios)\u001b[0m\n\u001b[1;32m     49\u001b[0m                 f\"Number of rows must be a positive integer, not {nrows!r}\")\n\u001b[1;32m     50\u001b[0m         \u001b[0;32mif\u001b[0m \u001b[0;32mnot\u001b[0m \u001b[0misinstance\u001b[0m\u001b[0;34m(\u001b[0m\u001b[0mncols\u001b[0m\u001b[0;34m,\u001b[0m \u001b[0mIntegral\u001b[0m\u001b[0;34m)\u001b[0m \u001b[0;32mor\u001b[0m \u001b[0mncols\u001b[0m \u001b[0;34m<=\u001b[0m \u001b[0;36m0\u001b[0m\u001b[0;34m:\u001b[0m\u001b[0;34m\u001b[0m\u001b[0;34m\u001b[0m\u001b[0m\n\u001b[0;32m---> 51\u001b[0;31m             raise ValueError(\n\u001b[0m\u001b[1;32m     52\u001b[0m                 f\"Number of columns must be a positive integer, not {ncols!r}\")\n\u001b[1;32m     53\u001b[0m         \u001b[0mself\u001b[0m\u001b[0;34m.\u001b[0m\u001b[0m_nrows\u001b[0m\u001b[0;34m,\u001b[0m \u001b[0mself\u001b[0m\u001b[0;34m.\u001b[0m\u001b[0m_ncols\u001b[0m \u001b[0;34m=\u001b[0m \u001b[0mnrows\u001b[0m\u001b[0;34m,\u001b[0m \u001b[0mncols\u001b[0m\u001b[0;34m\u001b[0m\u001b[0;34m\u001b[0m\u001b[0m\n",
            "\u001b[0;31mValueError\u001b[0m: Number of columns must be a positive integer, not 10.0"
          ]
        },
        {
          "output_type": "display_data",
          "data": {
            "text/plain": [
              "<Figure size 2500x400 with 0 Axes>"
            ]
          },
          "metadata": {}
        }
      ]
    }
  ]
}